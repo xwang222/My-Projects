{
  "metadata": {
    "kernelspec": {
      "language": "python",
      "display_name": "Python 3",
      "name": "python3"
    },
    "language_info": {
      "pygments_lexer": "ipython3",
      "nbconvert_exporter": "python",
      "version": "3.6.4",
      "file_extension": ".py",
      "codemirror_mode": {
        "name": "ipython",
        "version": 3
      },
      "name": "python",
      "mimetype": "text/x-python"
    },
    "colab": {
      "name": "ChinaQuant_LSTM_EXP.ipynb",
      "provenance": []
    }
  },
  "nbformat_minor": 0,
  "nbformat": 4,
  "cells": [
    {
      "cell_type": "code",
      "source": [
        "import warnings\n",
        "warnings.filterwarnings('ignore')"
      ],
      "metadata": {
        "id": "rG29jnHE2JsP",
        "_kg_hide-input": true,
        "execution": {
          "iopub.status.busy": "2021-11-29T13:48:54.347216Z",
          "iopub.execute_input": "2021-11-29T13:48:54.348152Z",
          "iopub.status.idle": "2021-11-29T13:48:54.352677Z",
          "shell.execute_reply.started": "2021-11-29T13:48:54.348106Z",
          "shell.execute_reply": "2021-11-29T13:48:54.351657Z"
        },
        "trusted": true
      },
      "execution_count": null,
      "outputs": []
    },
    {
      "cell_type": "code",
      "source": [
        "# Importing required libraries\n",
        "import pandas as pd\n",
        "import numpy as np\n",
        "import matplotlib.pyplot as plt"
      ],
      "metadata": {
        "id": "DXL9UGER2bMy",
        "execution": {
          "iopub.status.busy": "2021-11-29T13:48:54.354517Z",
          "iopub.execute_input": "2021-11-29T13:48:54.35479Z",
          "iopub.status.idle": "2021-11-29T13:48:54.364314Z",
          "shell.execute_reply.started": "2021-11-29T13:48:54.354754Z",
          "shell.execute_reply": "2021-11-29T13:48:54.36351Z"
        },
        "trusted": true
      },
      "execution_count": null,
      "outputs": []
    },
    {
      "cell_type": "code",
      "source": [
        "pip install bayesian-optimization"
      ],
      "metadata": {
        "id": "Hh-fiEeANcod"
      },
      "execution_count": null,
      "outputs": []
    },
    {
      "cell_type": "code",
      "source": [
        "import keras"
      ],
      "metadata": {
        "id": "nA-UgW_bQF05"
      },
      "execution_count": null,
      "outputs": []
    },
    {
      "cell_type": "code",
      "source": [
        "import tensorflow as tf"
      ],
      "metadata": {
        "id": "POY1FInYQKQg"
      },
      "execution_count": null,
      "outputs": []
    },
    {
      "cell_type": "code",
      "source": [
        "import numpy as np\n",
        "import pandas as pd\n",
        "import matplotlib.pyplot as plt\n",
        "import seaborn as sns\n",
        "\n",
        "from sklearn.model_selection import train_test_split\n",
        "from sklearn.model_selection import cross_val_score\n",
        "\n",
        "from keras.models import Sequential\n",
        "from keras.layers import Dense, BatchNormalization, Dropout\n",
        "from tensorflow.keras.optimizers import Adam, SGD, RMSprop, Adadelta, Adagrad, Adamax, Nadam, Ftrl\n",
        "from keras.callbacks import EarlyStopping, ModelCheckpoint\n",
        "from keras.wrappers.scikit_learn import KerasClassifier\n",
        "\n",
        "from math import floor\n",
        "from sklearn.metrics import make_scorer, accuracy_score\n",
        "from bayes_opt import BayesianOptimization\n",
        "from sklearn.model_selection import StratifiedKFold\n",
        "import pickle\n",
        "from keras.layers import LeakyReLU\n",
        "LeakyReLU = LeakyReLU(alpha=0.1)\n",
        "from sklearn.metrics import make_scorer, accuracy_score"
      ],
      "metadata": {
        "id": "_Z0AaF36uW3F"
      },
      "execution_count": null,
      "outputs": []
    },
    {
      "cell_type": "code",
      "source": [
        "score_acc = make_scorer(accuracy_score)\n",
        "from sklearn.model_selection import KFold\n",
        "kfold = KFold(n_splits=5, shuffle=True, random_state=42)"
      ],
      "metadata": {
        "id": "poRZaPsdvzKh"
      },
      "execution_count": null,
      "outputs": []
    },
    {
      "cell_type": "code",
      "source": [
        "!pip install -q -U keras-tuner"
      ],
      "metadata": {
        "id": "duBXvboi9NJa"
      },
      "execution_count": null,
      "outputs": []
    },
    {
      "cell_type": "code",
      "source": [
        "import keras_tuner as kt"
      ],
      "metadata": {
        "id": "mjzITB1A8COp"
      },
      "execution_count": null,
      "outputs": []
    },
    {
      "cell_type": "code",
      "source": [
        "!pip install PyWavelets"
      ],
      "metadata": {
        "colab": {
          "base_uri": "https://localhost:8080/"
        },
        "id": "0bK_kydfqH1S",
        "outputId": "58a48de5-e8da-4b87-eff0-e46082366631"
      },
      "execution_count": null,
      "outputs": [
        {
          "output_type": "stream",
          "name": "stdout",
          "text": [
            "Requirement already satisfied: PyWavelets in /usr/local/lib/python3.7/dist-packages (1.2.0)\n",
            "Requirement already satisfied: numpy>=1.17.3 in /usr/local/lib/python3.7/dist-packages (from PyWavelets) (1.21.5)\n"
          ]
        }
      ]
    },
    {
      "cell_type": "code",
      "source": [
        "import pywt"
      ],
      "metadata": {
        "id": "ynVIQ8gOqLDZ"
      },
      "execution_count": null,
      "outputs": []
    },
    {
      "cell_type": "code",
      "source": [
        "google_stock_data = pd.read_csv('/content/drive/MyDrive/ChinaQuant/GOOG.csv')\n",
        "google_stock_data.head()"
      ],
      "metadata": {
        "id": "KFlX32E32b-h",
        "outputId": "4aecaf41-e63a-43e3-8864-e1f6f6ab1a49",
        "execution": {
          "iopub.status.busy": "2021-11-29T13:48:54.366228Z",
          "iopub.execute_input": "2021-11-29T13:48:54.366502Z",
          "iopub.status.idle": "2021-11-29T13:48:54.397835Z",
          "shell.execute_reply.started": "2021-11-29T13:48:54.366469Z",
          "shell.execute_reply": "2021-11-29T13:48:54.396913Z"
        },
        "trusted": true,
        "colab": {
          "base_uri": "https://localhost:8080/",
          "height": 206
        }
      },
      "execution_count": null,
      "outputs": [
        {
          "output_type": "execute_result",
          "data": {
            "text/plain": [
              "  symbol                       date   close    high       low    open  \\\n",
              "0   GOOG  2016-06-14 00:00:00+00:00  718.27  722.47  713.1200  716.48   \n",
              "1   GOOG  2016-06-15 00:00:00+00:00  718.92  722.98  717.3100  719.00   \n",
              "2   GOOG  2016-06-16 00:00:00+00:00  710.36  716.65  703.2600  714.91   \n",
              "3   GOOG  2016-06-17 00:00:00+00:00  691.72  708.82  688.4515  708.65   \n",
              "4   GOOG  2016-06-20 00:00:00+00:00  693.71  702.48  693.4100  698.77   \n",
              "\n",
              "    volume  adjClose  adjHigh    adjLow  adjOpen  adjVolume  divCash  \\\n",
              "0  1306065    718.27   722.47  713.1200   716.48    1306065      0.0   \n",
              "1  1214517    718.92   722.98  717.3100   719.00    1214517      0.0   \n",
              "2  1982471    710.36   716.65  703.2600   714.91    1982471      0.0   \n",
              "3  3402357    691.72   708.82  688.4515   708.65    3402357      0.0   \n",
              "4  2082538    693.71   702.48  693.4100   698.77    2082538      0.0   \n",
              "\n",
              "   splitFactor  \n",
              "0          1.0  \n",
              "1          1.0  \n",
              "2          1.0  \n",
              "3          1.0  \n",
              "4          1.0  "
            ],
            "text/html": [
              "\n",
              "  <div id=\"df-0a4cef33-ad8e-4c81-9e85-36b72b399a7d\">\n",
              "    <div class=\"colab-df-container\">\n",
              "      <div>\n",
              "<style scoped>\n",
              "    .dataframe tbody tr th:only-of-type {\n",
              "        vertical-align: middle;\n",
              "    }\n",
              "\n",
              "    .dataframe tbody tr th {\n",
              "        vertical-align: top;\n",
              "    }\n",
              "\n",
              "    .dataframe thead th {\n",
              "        text-align: right;\n",
              "    }\n",
              "</style>\n",
              "<table border=\"1\" class=\"dataframe\">\n",
              "  <thead>\n",
              "    <tr style=\"text-align: right;\">\n",
              "      <th></th>\n",
              "      <th>symbol</th>\n",
              "      <th>date</th>\n",
              "      <th>close</th>\n",
              "      <th>high</th>\n",
              "      <th>low</th>\n",
              "      <th>open</th>\n",
              "      <th>volume</th>\n",
              "      <th>adjClose</th>\n",
              "      <th>adjHigh</th>\n",
              "      <th>adjLow</th>\n",
              "      <th>adjOpen</th>\n",
              "      <th>adjVolume</th>\n",
              "      <th>divCash</th>\n",
              "      <th>splitFactor</th>\n",
              "    </tr>\n",
              "  </thead>\n",
              "  <tbody>\n",
              "    <tr>\n",
              "      <th>0</th>\n",
              "      <td>GOOG</td>\n",
              "      <td>2016-06-14 00:00:00+00:00</td>\n",
              "      <td>718.27</td>\n",
              "      <td>722.47</td>\n",
              "      <td>713.1200</td>\n",
              "      <td>716.48</td>\n",
              "      <td>1306065</td>\n",
              "      <td>718.27</td>\n",
              "      <td>722.47</td>\n",
              "      <td>713.1200</td>\n",
              "      <td>716.48</td>\n",
              "      <td>1306065</td>\n",
              "      <td>0.0</td>\n",
              "      <td>1.0</td>\n",
              "    </tr>\n",
              "    <tr>\n",
              "      <th>1</th>\n",
              "      <td>GOOG</td>\n",
              "      <td>2016-06-15 00:00:00+00:00</td>\n",
              "      <td>718.92</td>\n",
              "      <td>722.98</td>\n",
              "      <td>717.3100</td>\n",
              "      <td>719.00</td>\n",
              "      <td>1214517</td>\n",
              "      <td>718.92</td>\n",
              "      <td>722.98</td>\n",
              "      <td>717.3100</td>\n",
              "      <td>719.00</td>\n",
              "      <td>1214517</td>\n",
              "      <td>0.0</td>\n",
              "      <td>1.0</td>\n",
              "    </tr>\n",
              "    <tr>\n",
              "      <th>2</th>\n",
              "      <td>GOOG</td>\n",
              "      <td>2016-06-16 00:00:00+00:00</td>\n",
              "      <td>710.36</td>\n",
              "      <td>716.65</td>\n",
              "      <td>703.2600</td>\n",
              "      <td>714.91</td>\n",
              "      <td>1982471</td>\n",
              "      <td>710.36</td>\n",
              "      <td>716.65</td>\n",
              "      <td>703.2600</td>\n",
              "      <td>714.91</td>\n",
              "      <td>1982471</td>\n",
              "      <td>0.0</td>\n",
              "      <td>1.0</td>\n",
              "    </tr>\n",
              "    <tr>\n",
              "      <th>3</th>\n",
              "      <td>GOOG</td>\n",
              "      <td>2016-06-17 00:00:00+00:00</td>\n",
              "      <td>691.72</td>\n",
              "      <td>708.82</td>\n",
              "      <td>688.4515</td>\n",
              "      <td>708.65</td>\n",
              "      <td>3402357</td>\n",
              "      <td>691.72</td>\n",
              "      <td>708.82</td>\n",
              "      <td>688.4515</td>\n",
              "      <td>708.65</td>\n",
              "      <td>3402357</td>\n",
              "      <td>0.0</td>\n",
              "      <td>1.0</td>\n",
              "    </tr>\n",
              "    <tr>\n",
              "      <th>4</th>\n",
              "      <td>GOOG</td>\n",
              "      <td>2016-06-20 00:00:00+00:00</td>\n",
              "      <td>693.71</td>\n",
              "      <td>702.48</td>\n",
              "      <td>693.4100</td>\n",
              "      <td>698.77</td>\n",
              "      <td>2082538</td>\n",
              "      <td>693.71</td>\n",
              "      <td>702.48</td>\n",
              "      <td>693.4100</td>\n",
              "      <td>698.77</td>\n",
              "      <td>2082538</td>\n",
              "      <td>0.0</td>\n",
              "      <td>1.0</td>\n",
              "    </tr>\n",
              "  </tbody>\n",
              "</table>\n",
              "</div>\n",
              "      <button class=\"colab-df-convert\" onclick=\"convertToInteractive('df-0a4cef33-ad8e-4c81-9e85-36b72b399a7d')\"\n",
              "              title=\"Convert this dataframe to an interactive table.\"\n",
              "              style=\"display:none;\">\n",
              "        \n",
              "  <svg xmlns=\"http://www.w3.org/2000/svg\" height=\"24px\"viewBox=\"0 0 24 24\"\n",
              "       width=\"24px\">\n",
              "    <path d=\"M0 0h24v24H0V0z\" fill=\"none\"/>\n",
              "    <path d=\"M18.56 5.44l.94 2.06.94-2.06 2.06-.94-2.06-.94-.94-2.06-.94 2.06-2.06.94zm-11 1L8.5 8.5l.94-2.06 2.06-.94-2.06-.94L8.5 2.5l-.94 2.06-2.06.94zm10 10l.94 2.06.94-2.06 2.06-.94-2.06-.94-.94-2.06-.94 2.06-2.06.94z\"/><path d=\"M17.41 7.96l-1.37-1.37c-.4-.4-.92-.59-1.43-.59-.52 0-1.04.2-1.43.59L10.3 9.45l-7.72 7.72c-.78.78-.78 2.05 0 2.83L4 21.41c.39.39.9.59 1.41.59.51 0 1.02-.2 1.41-.59l7.78-7.78 2.81-2.81c.8-.78.8-2.07 0-2.86zM5.41 20L4 18.59l7.72-7.72 1.47 1.35L5.41 20z\"/>\n",
              "  </svg>\n",
              "      </button>\n",
              "      \n",
              "  <style>\n",
              "    .colab-df-container {\n",
              "      display:flex;\n",
              "      flex-wrap:wrap;\n",
              "      gap: 12px;\n",
              "    }\n",
              "\n",
              "    .colab-df-convert {\n",
              "      background-color: #E8F0FE;\n",
              "      border: none;\n",
              "      border-radius: 50%;\n",
              "      cursor: pointer;\n",
              "      display: none;\n",
              "      fill: #1967D2;\n",
              "      height: 32px;\n",
              "      padding: 0 0 0 0;\n",
              "      width: 32px;\n",
              "    }\n",
              "\n",
              "    .colab-df-convert:hover {\n",
              "      background-color: #E2EBFA;\n",
              "      box-shadow: 0px 1px 2px rgba(60, 64, 67, 0.3), 0px 1px 3px 1px rgba(60, 64, 67, 0.15);\n",
              "      fill: #174EA6;\n",
              "    }\n",
              "\n",
              "    [theme=dark] .colab-df-convert {\n",
              "      background-color: #3B4455;\n",
              "      fill: #D2E3FC;\n",
              "    }\n",
              "\n",
              "    [theme=dark] .colab-df-convert:hover {\n",
              "      background-color: #434B5C;\n",
              "      box-shadow: 0px 1px 3px 1px rgba(0, 0, 0, 0.15);\n",
              "      filter: drop-shadow(0px 1px 2px rgba(0, 0, 0, 0.3));\n",
              "      fill: #FFFFFF;\n",
              "    }\n",
              "  </style>\n",
              "\n",
              "      <script>\n",
              "        const buttonEl =\n",
              "          document.querySelector('#df-0a4cef33-ad8e-4c81-9e85-36b72b399a7d button.colab-df-convert');\n",
              "        buttonEl.style.display =\n",
              "          google.colab.kernel.accessAllowed ? 'block' : 'none';\n",
              "\n",
              "        async function convertToInteractive(key) {\n",
              "          const element = document.querySelector('#df-0a4cef33-ad8e-4c81-9e85-36b72b399a7d');\n",
              "          const dataTable =\n",
              "            await google.colab.kernel.invokeFunction('convertToInteractive',\n",
              "                                                     [key], {});\n",
              "          if (!dataTable) return;\n",
              "\n",
              "          const docLinkHtml = 'Like what you see? Visit the ' +\n",
              "            '<a target=\"_blank\" href=https://colab.research.google.com/notebooks/data_table.ipynb>data table notebook</a>'\n",
              "            + ' to learn more about interactive tables.';\n",
              "          element.innerHTML = '';\n",
              "          dataTable['output_type'] = 'display_data';\n",
              "          await google.colab.output.renderOutput(dataTable, element);\n",
              "          const docLink = document.createElement('div');\n",
              "          docLink.innerHTML = docLinkHtml;\n",
              "          element.appendChild(docLink);\n",
              "        }\n",
              "      </script>\n",
              "    </div>\n",
              "  </div>\n",
              "  "
            ]
          },
          "metadata": {},
          "execution_count": 74
        }
      ]
    },
    {
      "cell_type": "code",
      "source": [
        "from google.colab import drive\n",
        "drive.mount('/content/drive')"
      ],
      "metadata": {
        "colab": {
          "base_uri": "https://localhost:8080/"
        },
        "id": "ztfckIvOjfch",
        "outputId": "31b8c9ee-6003-4b31-abe9-b2330d0af554"
      },
      "execution_count": null,
      "outputs": [
        {
          "output_type": "stream",
          "name": "stdout",
          "text": [
            "Drive already mounted at /content/drive; to attempt to forcibly remount, call drive.mount(\"/content/drive\", force_remount=True).\n"
          ]
        }
      ]
    },
    {
      "cell_type": "code",
      "source": [
        "google_stock_data.info()"
      ],
      "metadata": {
        "id": "rD5muzWA2cBd",
        "execution": {
          "iopub.status.busy": "2021-11-29T13:48:54.399474Z",
          "iopub.execute_input": "2021-11-29T13:48:54.399746Z",
          "iopub.status.idle": "2021-11-29T13:48:54.413816Z",
          "shell.execute_reply.started": "2021-11-29T13:48:54.39971Z",
          "shell.execute_reply": "2021-11-29T13:48:54.413031Z"
        },
        "trusted": true,
        "colab": {
          "base_uri": "https://localhost:8080/"
        },
        "outputId": "7a1e45b0-31ed-4d61-eede-68d4ae59abc9"
      },
      "execution_count": null,
      "outputs": [
        {
          "output_type": "stream",
          "name": "stdout",
          "text": [
            "<class 'pandas.core.frame.DataFrame'>\n",
            "RangeIndex: 1258 entries, 0 to 1257\n",
            "Data columns (total 14 columns):\n",
            " #   Column       Non-Null Count  Dtype  \n",
            "---  ------       --------------  -----  \n",
            " 0   symbol       1258 non-null   object \n",
            " 1   date         1258 non-null   object \n",
            " 2   close        1258 non-null   float64\n",
            " 3   high         1258 non-null   float64\n",
            " 4   low          1258 non-null   float64\n",
            " 5   open         1258 non-null   float64\n",
            " 6   volume       1258 non-null   int64  \n",
            " 7   adjClose     1258 non-null   float64\n",
            " 8   adjHigh      1258 non-null   float64\n",
            " 9   adjLow       1258 non-null   float64\n",
            " 10  adjOpen      1258 non-null   float64\n",
            " 11  adjVolume    1258 non-null   int64  \n",
            " 12  divCash      1258 non-null   float64\n",
            " 13  splitFactor  1258 non-null   float64\n",
            "dtypes: float64(10), int64(2), object(2)\n",
            "memory usage: 137.7+ KB\n"
          ]
        }
      ]
    },
    {
      "cell_type": "code",
      "source": [
        "google_stock_data = google_stock_data[['date','open','volume']] # Extracting required columns\n",
        "google_stock_data['date'] = pd.to_datetime(google_stock_data['date'].apply(lambda x: x.split()[0])) # Selecting only date\n",
        "google_stock_data.set_index('date',drop=True,inplace=True) # Setting date column as index\n",
        "google_stock_data.head()"
      ],
      "metadata": {
        "id": "KHpBg4KNnYJB",
        "outputId": "03ce525a-dd1d-40de-8a53-07246d36f7e5",
        "execution": {
          "iopub.status.busy": "2021-11-29T13:48:54.415906Z",
          "iopub.execute_input": "2021-11-29T13:48:54.416189Z",
          "iopub.status.idle": "2021-11-29T13:48:54.431238Z",
          "shell.execute_reply.started": "2021-11-29T13:48:54.416152Z",
          "shell.execute_reply": "2021-11-29T13:48:54.430397Z"
        },
        "trusted": true,
        "colab": {
          "base_uri": "https://localhost:8080/",
          "height": 238
        }
      },
      "execution_count": null,
      "outputs": [
        {
          "output_type": "execute_result",
          "data": {
            "text/plain": [
              "              open   volume\n",
              "date                       \n",
              "2016-06-14  716.48  1306065\n",
              "2016-06-15  719.00  1214517\n",
              "2016-06-16  714.91  1982471\n",
              "2016-06-17  708.65  3402357\n",
              "2016-06-20  698.77  2082538"
            ],
            "text/html": [
              "\n",
              "  <div id=\"df-df04c0d9-58a1-43bb-af69-e54792a39613\">\n",
              "    <div class=\"colab-df-container\">\n",
              "      <div>\n",
              "<style scoped>\n",
              "    .dataframe tbody tr th:only-of-type {\n",
              "        vertical-align: middle;\n",
              "    }\n",
              "\n",
              "    .dataframe tbody tr th {\n",
              "        vertical-align: top;\n",
              "    }\n",
              "\n",
              "    .dataframe thead th {\n",
              "        text-align: right;\n",
              "    }\n",
              "</style>\n",
              "<table border=\"1\" class=\"dataframe\">\n",
              "  <thead>\n",
              "    <tr style=\"text-align: right;\">\n",
              "      <th></th>\n",
              "      <th>open</th>\n",
              "      <th>volume</th>\n",
              "    </tr>\n",
              "    <tr>\n",
              "      <th>date</th>\n",
              "      <th></th>\n",
              "      <th></th>\n",
              "    </tr>\n",
              "  </thead>\n",
              "  <tbody>\n",
              "    <tr>\n",
              "      <th>2016-06-14</th>\n",
              "      <td>716.48</td>\n",
              "      <td>1306065</td>\n",
              "    </tr>\n",
              "    <tr>\n",
              "      <th>2016-06-15</th>\n",
              "      <td>719.00</td>\n",
              "      <td>1214517</td>\n",
              "    </tr>\n",
              "    <tr>\n",
              "      <th>2016-06-16</th>\n",
              "      <td>714.91</td>\n",
              "      <td>1982471</td>\n",
              "    </tr>\n",
              "    <tr>\n",
              "      <th>2016-06-17</th>\n",
              "      <td>708.65</td>\n",
              "      <td>3402357</td>\n",
              "    </tr>\n",
              "    <tr>\n",
              "      <th>2016-06-20</th>\n",
              "      <td>698.77</td>\n",
              "      <td>2082538</td>\n",
              "    </tr>\n",
              "  </tbody>\n",
              "</table>\n",
              "</div>\n",
              "      <button class=\"colab-df-convert\" onclick=\"convertToInteractive('df-df04c0d9-58a1-43bb-af69-e54792a39613')\"\n",
              "              title=\"Convert this dataframe to an interactive table.\"\n",
              "              style=\"display:none;\">\n",
              "        \n",
              "  <svg xmlns=\"http://www.w3.org/2000/svg\" height=\"24px\"viewBox=\"0 0 24 24\"\n",
              "       width=\"24px\">\n",
              "    <path d=\"M0 0h24v24H0V0z\" fill=\"none\"/>\n",
              "    <path d=\"M18.56 5.44l.94 2.06.94-2.06 2.06-.94-2.06-.94-.94-2.06-.94 2.06-2.06.94zm-11 1L8.5 8.5l.94-2.06 2.06-.94-2.06-.94L8.5 2.5l-.94 2.06-2.06.94zm10 10l.94 2.06.94-2.06 2.06-.94-2.06-.94-.94-2.06-.94 2.06-2.06.94z\"/><path d=\"M17.41 7.96l-1.37-1.37c-.4-.4-.92-.59-1.43-.59-.52 0-1.04.2-1.43.59L10.3 9.45l-7.72 7.72c-.78.78-.78 2.05 0 2.83L4 21.41c.39.39.9.59 1.41.59.51 0 1.02-.2 1.41-.59l7.78-7.78 2.81-2.81c.8-.78.8-2.07 0-2.86zM5.41 20L4 18.59l7.72-7.72 1.47 1.35L5.41 20z\"/>\n",
              "  </svg>\n",
              "      </button>\n",
              "      \n",
              "  <style>\n",
              "    .colab-df-container {\n",
              "      display:flex;\n",
              "      flex-wrap:wrap;\n",
              "      gap: 12px;\n",
              "    }\n",
              "\n",
              "    .colab-df-convert {\n",
              "      background-color: #E8F0FE;\n",
              "      border: none;\n",
              "      border-radius: 50%;\n",
              "      cursor: pointer;\n",
              "      display: none;\n",
              "      fill: #1967D2;\n",
              "      height: 32px;\n",
              "      padding: 0 0 0 0;\n",
              "      width: 32px;\n",
              "    }\n",
              "\n",
              "    .colab-df-convert:hover {\n",
              "      background-color: #E2EBFA;\n",
              "      box-shadow: 0px 1px 2px rgba(60, 64, 67, 0.3), 0px 1px 3px 1px rgba(60, 64, 67, 0.15);\n",
              "      fill: #174EA6;\n",
              "    }\n",
              "\n",
              "    [theme=dark] .colab-df-convert {\n",
              "      background-color: #3B4455;\n",
              "      fill: #D2E3FC;\n",
              "    }\n",
              "\n",
              "    [theme=dark] .colab-df-convert:hover {\n",
              "      background-color: #434B5C;\n",
              "      box-shadow: 0px 1px 3px 1px rgba(0, 0, 0, 0.15);\n",
              "      filter: drop-shadow(0px 1px 2px rgba(0, 0, 0, 0.3));\n",
              "      fill: #FFFFFF;\n",
              "    }\n",
              "  </style>\n",
              "\n",
              "      <script>\n",
              "        const buttonEl =\n",
              "          document.querySelector('#df-df04c0d9-58a1-43bb-af69-e54792a39613 button.colab-df-convert');\n",
              "        buttonEl.style.display =\n",
              "          google.colab.kernel.accessAllowed ? 'block' : 'none';\n",
              "\n",
              "        async function convertToInteractive(key) {\n",
              "          const element = document.querySelector('#df-df04c0d9-58a1-43bb-af69-e54792a39613');\n",
              "          const dataTable =\n",
              "            await google.colab.kernel.invokeFunction('convertToInteractive',\n",
              "                                                     [key], {});\n",
              "          if (!dataTable) return;\n",
              "\n",
              "          const docLinkHtml = 'Like what you see? Visit the ' +\n",
              "            '<a target=\"_blank\" href=https://colab.research.google.com/notebooks/data_table.ipynb>data table notebook</a>'\n",
              "            + ' to learn more about interactive tables.';\n",
              "          element.innerHTML = '';\n",
              "          dataTable['output_type'] = 'display_data';\n",
              "          await google.colab.output.renderOutput(dataTable, element);\n",
              "          const docLink = document.createElement('div');\n",
              "          docLink.innerHTML = docLinkHtml;\n",
              "          element.appendChild(docLink);\n",
              "        }\n",
              "      </script>\n",
              "    </div>\n",
              "  </div>\n",
              "  "
            ]
          },
          "metadata": {},
          "execution_count": 77
        }
      ]
    },
    {
      "cell_type": "code",
      "source": [
        "fg, ax =plt.subplots(1,2,figsize=(20,7))\n",
        "ax[0].plot(google_stock_data['open'],label='Open',color='green')\n",
        "ax[0].set_xlabel('Date',size=15)\n",
        "ax[0].set_ylabel('Price',size=15)\n",
        "ax[0].legend()\n",
        "\n",
        "ax[1].plot(google_stock_data['close'],label='Close',color='red')\n",
        "ax[1].set_xlabel('Date',size=15)\n",
        "ax[1].set_ylabel('Price',size=15)\n",
        "ax[1].legend()\n",
        "\n",
        "fg.show()"
      ],
      "metadata": {
        "id": "17mfyZrq2cE9",
        "_kg_hide-input": true,
        "execution": {
          "iopub.status.busy": "2021-11-29T13:48:54.432895Z",
          "iopub.execute_input": "2021-11-29T13:48:54.433148Z",
          "iopub.status.idle": "2021-11-29T13:48:54.838371Z",
          "shell.execute_reply.started": "2021-11-29T13:48:54.433116Z",
          "shell.execute_reply": "2021-11-29T13:48:54.837672Z"
        },
        "trusted": true
      },
      "execution_count": null,
      "outputs": []
    },
    {
      "cell_type": "markdown",
      "source": [
        "# Denoising using wavelet"
      ],
      "metadata": {
        "id": "z6RyAzxigxrs"
      }
    },
    {
      "cell_type": "code",
      "source": [
        "def madev(d, axis=None):\n",
        "    \"\"\" Mean absolute deviation of a signal \"\"\"\n",
        "    return np.mean(np.absolute(d - np.mean(d, axis)), axis)"
      ],
      "metadata": {
        "id": "blqGXdNmnl16"
      },
      "execution_count": null,
      "outputs": []
    },
    {
      "cell_type": "code",
      "source": [
        "def wavelet_denoising(x, wavelet='db4', level=1):\n",
        "    coeff = pywt.wavedec(x, wavelet, mode=\"per\")\n",
        "    sigma = (1/0.6745) * madev(coeff[-level])\n",
        "    uthresh = sigma * np.sqrt(2 * np.log(len(x)))\n",
        "    coeff[1:] = (pywt.threshold(i, value=uthresh, mode='hard') for i in coeff[1:])\n",
        "    return pywt.waverec(coeff, wavelet, mode='per')"
      ],
      "metadata": {
        "id": "0COgxMtmnqPx"
      },
      "execution_count": null,
      "outputs": []
    },
    {
      "cell_type": "code",
      "source": [
        "goog_reserve=google_stock_data['open']\n",
        "google_stock_data['open'] = wavelet_denoising(google_stock_data['open'])"
      ],
      "metadata": {
        "id": "pTvMqHOWrP_l"
      },
      "execution_count": null,
      "outputs": []
    },
    {
      "cell_type": "code",
      "source": [
        "#coeff = pywt.wavedec(google_stock_data['open'], 'db4', mode=\"per\")"
      ],
      "metadata": {
        "id": "jxBOhjihymuK"
      },
      "execution_count": null,
      "outputs": []
    },
    {
      "cell_type": "code",
      "source": [
        "#@title\n",
        "#!apt install octave"
      ],
      "metadata": {
        "id": "RcS3tKTPrsm7"
      },
      "execution_count": null,
      "outputs": []
    },
    {
      "cell_type": "code",
      "source": [
        "#@title\n",
        "#%%writefile test.m\n",
        "\n",
        "#XDEN = wdenoise(google_stock_data['open'])\n"
      ],
      "metadata": {
        "collapsed": true,
        "id": "QncXaL5chvAr"
      },
      "execution_count": null,
      "outputs": []
    },
    {
      "cell_type": "code",
      "source": [
        "#@title\n",
        "#!octave test.m/content/test.m"
      ],
      "metadata": {
        "collapsed": true,
        "id": "qBzPgrgGhe3X"
      },
      "execution_count": null,
      "outputs": []
    },
    {
      "cell_type": "code",
      "source": [
        "#@title\n",
        "#XDEN = wdenoise(google_stock_data['open'])"
      ],
      "metadata": {
        "id": "tmXqZdv5hVAX"
      },
      "execution_count": null,
      "outputs": []
    },
    {
      "cell_type": "markdown",
      "source": [
        "# Data Pre-Processing"
      ],
      "metadata": {
        "id": "PTYHF02Y6B1m"
      }
    },
    {
      "cell_type": "code",
      "source": [
        "from sklearn.preprocessing import MinMaxScaler\n",
        "MMS = MinMaxScaler()\n",
        "google_stock_data['open'] = MMS.fit_transform(google_stock_data['open'].values.reshape(-1, 1))\n",
        "google_stock_data['volume'] = MMS.fit_transform(google_stock_data['volume'].values.reshape(-1, 1))"
      ],
      "metadata": {
        "id": "XgHWQ2SK2cH4",
        "execution": {
          "iopub.status.busy": "2021-11-29T13:48:54.839586Z",
          "iopub.execute_input": "2021-11-29T13:48:54.839936Z",
          "iopub.status.idle": "2021-11-29T13:48:54.848829Z",
          "shell.execute_reply.started": "2021-11-29T13:48:54.8399Z",
          "shell.execute_reply": "2021-11-29T13:48:54.848032Z"
        },
        "trusted": true
      },
      "execution_count": null,
      "outputs": []
    },
    {
      "cell_type": "code",
      "source": [
        "google_stock_data.shape"
      ],
      "metadata": {
        "id": "vUhYPfaR2cP0",
        "outputId": "d686a8be-7ba8-4e06-c3ff-b471cf8485c5",
        "execution": {
          "iopub.status.busy": "2021-11-29T13:48:54.851356Z",
          "iopub.execute_input": "2021-11-29T13:48:54.851822Z",
          "iopub.status.idle": "2021-11-29T13:48:54.859263Z",
          "shell.execute_reply.started": "2021-11-29T13:48:54.851721Z",
          "shell.execute_reply": "2021-11-29T13:48:54.858585Z"
        },
        "trusted": true,
        "colab": {
          "base_uri": "https://localhost:8080/"
        }
      },
      "execution_count": null,
      "outputs": [
        {
          "output_type": "execute_result",
          "data": {
            "text/plain": [
              "(1258, 2)"
            ]
          },
          "metadata": {},
          "execution_count": 82
        }
      ]
    },
    {
      "cell_type": "code",
      "source": [
        "training_size = round(len(google_stock_data) * 0.80) # Selecting 80 % for training and 20 % for testing\n",
        "training_size"
      ],
      "metadata": {
        "id": "o4shudsl2cS3",
        "outputId": "1b97826e-0043-4ff8-84da-fda070c4d1e3",
        "execution": {
          "iopub.status.busy": "2021-11-29T13:48:54.860699Z",
          "iopub.execute_input": "2021-11-29T13:48:54.86097Z",
          "iopub.status.idle": "2021-11-29T13:48:54.868652Z",
          "shell.execute_reply.started": "2021-11-29T13:48:54.860935Z",
          "shell.execute_reply": "2021-11-29T13:48:54.867618Z"
        },
        "trusted": true,
        "colab": {
          "base_uri": "https://localhost:8080/"
        }
      },
      "execution_count": null,
      "outputs": [
        {
          "output_type": "execute_result",
          "data": {
            "text/plain": [
              "1006"
            ]
          },
          "metadata": {},
          "execution_count": 83
        }
      ]
    },
    {
      "cell_type": "code",
      "source": [
        "train_data = google_stock_data[:training_size]\n",
        "test_data  = google_stock_data[training_size:]\n",
        "\n",
        "train_data.shape, test_data.shape"
      ],
      "metadata": {
        "id": "XWI_TMQC2cWB",
        "outputId": "f506c214-715d-44c7-8ba4-33ebf9905c53",
        "execution": {
          "iopub.status.busy": "2021-11-29T13:48:54.870094Z",
          "iopub.execute_input": "2021-11-29T13:48:54.870593Z",
          "iopub.status.idle": "2021-11-29T13:48:54.881307Z",
          "shell.execute_reply.started": "2021-11-29T13:48:54.870555Z",
          "shell.execute_reply": "2021-11-29T13:48:54.880431Z"
        },
        "trusted": true,
        "colab": {
          "base_uri": "https://localhost:8080/"
        }
      },
      "execution_count": null,
      "outputs": [
        {
          "output_type": "execute_result",
          "data": {
            "text/plain": [
              "((1006, 2), (252, 2))"
            ]
          },
          "metadata": {},
          "execution_count": 84
        }
      ]
    },
    {
      "cell_type": "code",
      "source": [
        "# Function to create sequence of data for training and testing\n",
        "\n",
        "def create_sequence(dataset):\n",
        "  sequences = []\n",
        "  labels = []\n",
        "\n",
        "  start_idx = 0\n",
        "\n",
        "  for stop_idx in range(50,len(dataset)): # Selecting 50 rows at a time\n",
        "    sequences.append(dataset.iloc[start_idx:stop_idx])\n",
        "    labels.append(dataset.iloc[stop_idx])\n",
        "    start_idx += 1\n",
        "  return (np.array(sequences),np.array(labels))\n"
      ],
      "metadata": {
        "id": "CqpXvPeD7zUY",
        "execution": {
          "iopub.status.busy": "2021-11-29T13:48:54.88491Z",
          "iopub.execute_input": "2021-11-29T13:48:54.885236Z",
          "iopub.status.idle": "2021-11-29T13:48:54.892603Z",
          "shell.execute_reply.started": "2021-11-29T13:48:54.885145Z",
          "shell.execute_reply": "2021-11-29T13:48:54.891844Z"
        },
        "trusted": true
      },
      "execution_count": null,
      "outputs": []
    },
    {
      "cell_type": "code",
      "source": [
        "len(train_data)"
      ],
      "metadata": {
        "colab": {
          "base_uri": "https://localhost:8080/"
        },
        "id": "Lj_pZ5H9CrJh",
        "outputId": "f143c58f-c597-47be-cc24-f9acd4a5b581"
      },
      "execution_count": null,
      "outputs": [
        {
          "output_type": "execute_result",
          "data": {
            "text/plain": [
              "1006"
            ]
          },
          "metadata": {},
          "execution_count": 86
        }
      ]
    },
    {
      "cell_type": "code",
      "source": [
        "train_seq, train_label = create_sequence(train_data)\n",
        "test_seq, test_label = create_sequence(test_data)"
      ],
      "metadata": {
        "id": "xqkyw0e-7zW3",
        "execution": {
          "iopub.status.busy": "2021-11-29T13:48:54.893972Z",
          "iopub.execute_input": "2021-11-29T13:48:54.894494Z",
          "iopub.status.idle": "2021-11-29T13:48:55.087886Z",
          "shell.execute_reply.started": "2021-11-29T13:48:54.894459Z",
          "shell.execute_reply": "2021-11-29T13:48:55.087084Z"
        },
        "trusted": true
      },
      "execution_count": null,
      "outputs": []
    },
    {
      "cell_type": "code",
      "source": [
        "train_label"
      ],
      "metadata": {
        "id": "eSO8HAhGUNbu",
        "colab": {
          "base_uri": "https://localhost:8080/"
        },
        "outputId": "023a20e0-62b9-413f-a826-426f07e67d4c"
      },
      "execution_count": null,
      "outputs": [
        {
          "output_type": "execute_result",
          "data": {
            "text/plain": [
              "array([[0.05603715, 0.12375633],\n",
              "       [0.05489863, 0.09899366],\n",
              "       [0.05440444, 0.13991291],\n",
              "       ...,\n",
              "       [0.41165177, 0.18130483],\n",
              "       [0.41260099, 0.20108275],\n",
              "       [0.41348248, 0.28063176]])"
            ]
          },
          "metadata": {},
          "execution_count": 88
        }
      ]
    },
    {
      "cell_type": "code",
      "source": [
        "test=[]\n",
        "for i in range(len(train_label)):\n",
        "  test.append(train_label[i][0])\n",
        "\n",
        "train_label=np.array(test)"
      ],
      "metadata": {
        "id": "w9yH5QlBVM-K"
      },
      "execution_count": null,
      "outputs": []
    },
    {
      "cell_type": "code",
      "source": [
        "test=[]\n",
        "for i in range(len(test_label)):\n",
        "  test.append(test_label[i][0])\n",
        "\n",
        "test_label=np.array(test)"
      ],
      "metadata": {
        "id": "tRUDXB9mVZAy"
      },
      "execution_count": null,
      "outputs": []
    },
    {
      "cell_type": "code",
      "source": [
        "test_label"
      ],
      "metadata": {
        "id": "dpp0hxGqVxOu",
        "colab": {
          "base_uri": "https://localhost:8080/"
        },
        "outputId": "4ce1ecd2-bff0-4c25-9360-149e88be3ca9"
      },
      "execution_count": null,
      "outputs": [
        {
          "output_type": "execute_result",
          "data": {
            "text/plain": [
              "array([0.49134971, 0.49818899, 0.50564729, 0.51191431, 0.5166034 ,\n",
              "       0.52111859, 0.52490891, 0.53390137, 0.54876818, 0.5352718 ,\n",
              "       0.49191006, 0.47610837, 0.48334009, 0.48037044, 0.47724905,\n",
              "       0.47118309, 0.45807832, 0.44518602, 0.43059573, 0.42096149,\n",
              "       0.41772598, 0.41585393, 0.41743001, 0.41989508, 0.42282749,\n",
              "       0.42936277, 0.43896065, 0.44280254, 0.44053346, 0.43602065,\n",
              "       0.42695918, 0.42700208, 0.43730943, 0.44934846, 0.46662941,\n",
              "       0.47713536, 0.47928932, 0.48172888, 0.48123158, 0.4841116 ,\n",
              "       0.49153333, 0.49778956, 0.5045813 , 0.50497259, 0.497671  ,\n",
              "       0.48727407, 0.47164899, 0.48278115, 0.52397766, 0.54500711,\n",
              "       0.55146659, 0.56571582, 0.57929893, 0.58171177, 0.57358508,\n",
              "       0.57371027, 0.58104346, 0.58446577, 0.58754179, 0.59010613,\n",
              "       0.59100528, 0.59262449, 0.59466892, 0.59520116, 0.5944702 ,\n",
              "       0.5931648 , 0.59094038, 0.59254447, 0.598474  , 0.60626039,\n",
              "       0.61724991, 0.62116855, 0.61705645, 0.6109969 , 0.60024629,\n",
              "       0.59481598, 0.59583532, 0.59617162, 0.59841914, 0.59755302,\n",
              "       0.59258519, 0.58803167, 0.58250247, 0.57908265, 0.57851936,\n",
              "       0.57823525, 0.57919331, 0.58028972, 0.58127092, 0.5835285 ,\n",
              "       0.58679549, 0.58805352, 0.58721865, 0.5855453 , 0.58225507,\n",
              "       0.57939036, 0.57706577, 0.57359961, 0.56942172, 0.57396778,\n",
              "       0.58798733, 0.60734548, 0.6347128 , 0.65147688, 0.65611871,\n",
              "       0.65994209, 0.65814188, 0.65720484, 0.65816163, 0.65380504,\n",
              "       0.64558107, 0.67403106, 0.74217678, 0.76310051, 0.74102699,\n",
              "       0.75101956, 0.77895225, 0.78291832, 0.77181503, 0.76942691,\n",
              "       0.77086205, 0.76662418, 0.76003226, 0.75621112, 0.75469022,\n",
              "       0.75461084, 0.75720763, 0.75751564, 0.75546528, 0.75457632,\n",
              "       0.75383432, 0.75315486, 0.75293561, 0.7525406 , 0.75206081,\n",
              "       0.7525447 , 0.75399186, 0.75600095, 0.75882895, 0.75987115,\n",
              "       0.75889329, 0.75734941, 0.75453614, 0.75189348, 0.74956593,\n",
              "       0.7462389 , 0.74223139, 0.73997851, 0.73955042, 0.7400151 ,\n",
              "       0.74201494, 0.75173517, 0.76992041, 0.79429431, 0.82681321,\n",
              "       0.84721659, 0.85392996, 0.85847314, 0.85553605, 0.85715071,\n",
              "       0.86468866, 0.86779511, 0.86932   , 0.87006301, 0.86888798,\n",
              "       0.86747296, 0.86569828, 0.87124321, 0.88524875, 0.90401248,\n",
              "       0.92995439, 0.94229565, 0.93929078, 0.93310431, 0.91827082,\n",
              "       0.91079661, 0.91254682, 0.91119051, 0.91076432, 0.89539398,\n",
              "       0.8623718 , 0.85942847, 0.8856619 , 0.89683289, 0.90114846,\n",
              "       0.86023928, 0.89517518, 0.89422357, 0.90453965, 0.9179698 ,\n",
              "       0.93477084, 0.9455728 , 0.9494378 , 0.95165674, 0.94962063,\n",
              "       0.94611665, 0.94138589, 0.95173233, 0.9796341 , 0.98921564,\n",
              "       0.98278578, 1.        ])"
            ]
          },
          "metadata": {},
          "execution_count": 91
        }
      ]
    },
    {
      "cell_type": "code",
      "source": [
        "train_seq.shape, train_label.shape, test_seq.shape, test_label.shape"
      ],
      "metadata": {
        "id": "ZpsCI6jf_oC2",
        "outputId": "ae6743d9-fc57-41ac-f01c-36d12e4a9a25",
        "execution": {
          "iopub.status.busy": "2021-11-29T13:48:55.08923Z",
          "iopub.execute_input": "2021-11-29T13:48:55.089638Z",
          "iopub.status.idle": "2021-11-29T13:48:55.096201Z",
          "shell.execute_reply.started": "2021-11-29T13:48:55.089605Z",
          "shell.execute_reply": "2021-11-29T13:48:55.095433Z"
        },
        "trusted": true,
        "colab": {
          "base_uri": "https://localhost:8080/"
        }
      },
      "execution_count": null,
      "outputs": [
        {
          "output_type": "execute_result",
          "data": {
            "text/plain": [
              "((956, 50, 2), (956,), (202, 50, 2), (202,))"
            ]
          },
          "metadata": {},
          "execution_count": 92
        }
      ]
    },
    {
      "cell_type": "markdown",
      "source": [
        "# Creating LSTM model"
      ],
      "metadata": {
        "id": "lbRE8i0Y6GGL"
      }
    },
    {
      "cell_type": "code",
      "source": [
        "from keras.models import Sequential\n",
        "from keras.layers import Dense, Dropout, LSTM, Bidirectional"
      ],
      "metadata": {
        "id": "etmB-Lbd7zZa",
        "execution": {
          "iopub.status.busy": "2021-11-29T13:48:55.097575Z",
          "iopub.execute_input": "2021-11-29T13:48:55.098158Z",
          "iopub.status.idle": "2021-11-29T13:48:55.105797Z",
          "shell.execute_reply.started": "2021-11-29T13:48:55.098122Z",
          "shell.execute_reply": "2021-11-29T13:48:55.105123Z"
        },
        "trusted": true
      },
      "execution_count": null,
      "outputs": []
    },
    {
      "cell_type": "code",
      "source": [
        "model = Sequential()\n",
        "model.add(LSTM(units=50, return_sequences=True, input_shape = (train_seq.shape[1], train_seq.shape[2])))\n",
        "\n",
        "model.add(Dropout(0.1)) \n",
        "model.add(LSTM(units=50))\n",
        "\n",
        "model.add(Dense(1))\n",
        "\n",
        "model.compile(loss='mean_squared_error', optimizer='adam', metrics=['mean_absolute_error'])\n",
        "\n",
        "model.summary()"
      ],
      "metadata": {
        "id": "FntEHOeG7zcE",
        "outputId": "62ec7502-b424-4cd8-b380-ff1092f14fec",
        "execution": {
          "iopub.status.busy": "2021-11-29T13:48:55.107167Z",
          "iopub.execute_input": "2021-11-29T13:48:55.107454Z",
          "iopub.status.idle": "2021-11-29T13:48:55.514771Z",
          "shell.execute_reply.started": "2021-11-29T13:48:55.107419Z",
          "shell.execute_reply": "2021-11-29T13:48:55.513883Z"
        },
        "trusted": true,
        "colab": {
          "base_uri": "https://localhost:8080/"
        }
      },
      "execution_count": null,
      "outputs": [
        {
          "output_type": "stream",
          "name": "stdout",
          "text": [
            "Model: \"sequential_1\"\n",
            "_________________________________________________________________\n",
            " Layer (type)                Output Shape              Param #   \n",
            "=================================================================\n",
            " lstm_2 (LSTM)               (None, 50, 50)            10600     \n",
            "                                                                 \n",
            " dropout_1 (Dropout)         (None, 50, 50)            0         \n",
            "                                                                 \n",
            " lstm_3 (LSTM)               (None, 50)                20200     \n",
            "                                                                 \n",
            " dense_1 (Dense)             (None, 1)                 51        \n",
            "                                                                 \n",
            "=================================================================\n",
            "Total params: 30,851\n",
            "Trainable params: 30,851\n",
            "Non-trainable params: 0\n",
            "_________________________________________________________________\n"
          ]
        }
      ]
    },
    {
      "cell_type": "code",
      "source": [
        "model.fit(train_seq, train_label, epochs=80,validation_data=(test_seq, test_label), verbose=1)"
      ],
      "metadata": {
        "id": "5sFY8gn97zeC",
        "execution": {
          "iopub.status.busy": "2021-11-29T13:48:55.516331Z",
          "iopub.execute_input": "2021-11-29T13:48:55.516614Z",
          "iopub.status.idle": "2021-11-29T13:49:18.807936Z",
          "shell.execute_reply.started": "2021-11-29T13:48:55.51658Z",
          "shell.execute_reply": "2021-11-29T13:49:18.807223Z"
        },
        "_kg_hide-output": true,
        "trusted": true
      },
      "execution_count": null,
      "outputs": []
    },
    {
      "cell_type": "code",
      "source": [
        "test_predicted = model.predict(test_seq)\n",
        "test_predicted[:5]"
      ],
      "metadata": {
        "id": "UPkxNcyo7zgX",
        "outputId": "e4b5fa86-b213-4843-bf2d-919d2631632c",
        "execution": {
          "iopub.status.busy": "2021-11-29T13:49:18.809183Z",
          "iopub.execute_input": "2021-11-29T13:49:18.810525Z",
          "iopub.status.idle": "2021-11-29T13:49:19.630979Z",
          "shell.execute_reply.started": "2021-11-29T13:49:18.810485Z",
          "shell.execute_reply": "2021-11-29T13:49:19.630215Z"
        },
        "trusted": true,
        "colab": {
          "base_uri": "https://localhost:8080/"
        }
      },
      "execution_count": null,
      "outputs": [
        {
          "output_type": "execute_result",
          "data": {
            "text/plain": [
              "array([[0.47741398],\n",
              "       [0.48438865],\n",
              "       [0.48772874],\n",
              "       [0.48411995],\n",
              "       [0.4921375 ]], dtype=float32)"
            ]
          },
          "metadata": {},
          "execution_count": 57
        }
      ]
    },
    {
      "cell_type": "code",
      "source": [
        "test_inverse_predicted = MMS.inverse_transform(test_predicted) # Inversing scaling on predicted data\n",
        "test_inverse_predicted[:5]"
      ],
      "metadata": {
        "id": "DvRmpGcwLPhu",
        "outputId": "fd11a05e-c04a-400c-9840-4410e157dc55",
        "execution": {
          "iopub.status.busy": "2021-11-29T13:49:19.632563Z",
          "iopub.execute_input": "2021-11-29T13:49:19.632847Z",
          "iopub.status.idle": "2021-11-29T13:49:19.640819Z",
          "shell.execute_reply.started": "2021-11-29T13:49:19.632807Z",
          "shell.execute_reply": "2021-11-29T13:49:19.639729Z"
        },
        "trusted": true,
        "colab": {
          "base_uri": "https://localhost:8080/"
        }
      },
      "execution_count": null,
      "outputs": [
        {
          "output_type": "execute_result",
          "data": {
            "text/plain": [
              "array([[3144529.8],\n",
              "       [3185403.2],\n",
              "       [3204977. ],\n",
              "       [3183828.8],\n",
              "       [3230813.8]], dtype=float32)"
            ]
          },
          "metadata": {},
          "execution_count": 58
        }
      ]
    },
    {
      "cell_type": "markdown",
      "source": [
        "# Visualizing predicted and actual data"
      ],
      "metadata": {
        "id": "3fX0hFZM61cO"
      }
    },
    {
      "cell_type": "code",
      "source": [
        "# Merging actual and predicted data for better visualization\n",
        "\n",
        "gs_slic_data = pd.concat([google_stock_data.iloc[-202:].copy(),pd.DataFrame(test_inverse_predicted,columns=['open_predicted'],index=google_stock_data.iloc[-202:].index)], axis=1)"
      ],
      "metadata": {
        "id": "7KWDJaXAL8RT",
        "execution": {
          "iopub.status.busy": "2021-11-29T13:49:19.642571Z",
          "iopub.execute_input": "2021-11-29T13:49:19.643522Z",
          "iopub.status.idle": "2021-11-29T13:49:19.652021Z",
          "shell.execute_reply.started": "2021-11-29T13:49:19.643481Z",
          "shell.execute_reply": "2021-11-29T13:49:19.65118Z"
        },
        "trusted": true
      },
      "execution_count": null,
      "outputs": []
    },
    {
      "cell_type": "code",
      "source": [
        "gs_slic_data[['open','volume']] = MMS.inverse_transform(gs_slic_data[['open','volume']]) # Inverse scaling"
      ],
      "metadata": {
        "id": "VhQ1_JnJ0oYE",
        "execution": {
          "iopub.status.busy": "2021-11-29T13:49:19.653615Z",
          "iopub.execute_input": "2021-11-29T13:49:19.653926Z",
          "iopub.status.idle": "2021-11-29T13:49:19.664693Z",
          "shell.execute_reply.started": "2021-11-29T13:49:19.653884Z",
          "shell.execute_reply": "2021-11-29T13:49:19.663864Z"
        },
        "trusted": true
      },
      "execution_count": null,
      "outputs": []
    },
    {
      "cell_type": "code",
      "source": [
        "gs_slic_data.head()"
      ],
      "metadata": {
        "id": "M1fsx6gTO3io",
        "execution": {
          "iopub.status.busy": "2021-11-29T13:49:19.666076Z",
          "iopub.execute_input": "2021-11-29T13:49:19.666454Z",
          "iopub.status.idle": "2021-11-29T13:49:19.685246Z",
          "shell.execute_reply.started": "2021-11-29T13:49:19.666415Z",
          "shell.execute_reply": "2021-11-29T13:49:19.684311Z"
        },
        "trusted": true,
        "colab": {
          "base_uri": "https://localhost:8080/",
          "height": 238
        },
        "outputId": "9dbed35a-6f1f-4d8d-ab38-b7e6de958df7"
      },
      "execution_count": null,
      "outputs": [
        {
          "output_type": "execute_result",
          "data": {
            "text/plain": [
              "                    open     volume  open_predicted\n",
              "date                                               \n",
              "2020-08-24  3.226197e+06  1410229.0      3144529.75\n",
              "2020-08-25  3.266277e+06  2132084.0      3185403.25\n",
              "2020-08-26  3.309985e+06  3581072.0      3204977.00\n",
              "2020-08-27  3.346711e+06  1861602.0      3183828.75\n",
              "2020-08-28  3.374190e+06  1499782.0      3230813.75"
            ],
            "text/html": [
              "\n",
              "  <div id=\"df-fc06d5ef-4deb-40a0-915d-6a61789b32bf\">\n",
              "    <div class=\"colab-df-container\">\n",
              "      <div>\n",
              "<style scoped>\n",
              "    .dataframe tbody tr th:only-of-type {\n",
              "        vertical-align: middle;\n",
              "    }\n",
              "\n",
              "    .dataframe tbody tr th {\n",
              "        vertical-align: top;\n",
              "    }\n",
              "\n",
              "    .dataframe thead th {\n",
              "        text-align: right;\n",
              "    }\n",
              "</style>\n",
              "<table border=\"1\" class=\"dataframe\">\n",
              "  <thead>\n",
              "    <tr style=\"text-align: right;\">\n",
              "      <th></th>\n",
              "      <th>open</th>\n",
              "      <th>volume</th>\n",
              "      <th>open_predicted</th>\n",
              "    </tr>\n",
              "    <tr>\n",
              "      <th>date</th>\n",
              "      <th></th>\n",
              "      <th></th>\n",
              "      <th></th>\n",
              "    </tr>\n",
              "  </thead>\n",
              "  <tbody>\n",
              "    <tr>\n",
              "      <th>2020-08-24</th>\n",
              "      <td>3.226197e+06</td>\n",
              "      <td>1410229.0</td>\n",
              "      <td>3144529.75</td>\n",
              "    </tr>\n",
              "    <tr>\n",
              "      <th>2020-08-25</th>\n",
              "      <td>3.266277e+06</td>\n",
              "      <td>2132084.0</td>\n",
              "      <td>3185403.25</td>\n",
              "    </tr>\n",
              "    <tr>\n",
              "      <th>2020-08-26</th>\n",
              "      <td>3.309985e+06</td>\n",
              "      <td>3581072.0</td>\n",
              "      <td>3204977.00</td>\n",
              "    </tr>\n",
              "    <tr>\n",
              "      <th>2020-08-27</th>\n",
              "      <td>3.346711e+06</td>\n",
              "      <td>1861602.0</td>\n",
              "      <td>3183828.75</td>\n",
              "    </tr>\n",
              "    <tr>\n",
              "      <th>2020-08-28</th>\n",
              "      <td>3.374190e+06</td>\n",
              "      <td>1499782.0</td>\n",
              "      <td>3230813.75</td>\n",
              "    </tr>\n",
              "  </tbody>\n",
              "</table>\n",
              "</div>\n",
              "      <button class=\"colab-df-convert\" onclick=\"convertToInteractive('df-fc06d5ef-4deb-40a0-915d-6a61789b32bf')\"\n",
              "              title=\"Convert this dataframe to an interactive table.\"\n",
              "              style=\"display:none;\">\n",
              "        \n",
              "  <svg xmlns=\"http://www.w3.org/2000/svg\" height=\"24px\"viewBox=\"0 0 24 24\"\n",
              "       width=\"24px\">\n",
              "    <path d=\"M0 0h24v24H0V0z\" fill=\"none\"/>\n",
              "    <path d=\"M18.56 5.44l.94 2.06.94-2.06 2.06-.94-2.06-.94-.94-2.06-.94 2.06-2.06.94zm-11 1L8.5 8.5l.94-2.06 2.06-.94-2.06-.94L8.5 2.5l-.94 2.06-2.06.94zm10 10l.94 2.06.94-2.06 2.06-.94-2.06-.94-.94-2.06-.94 2.06-2.06.94z\"/><path d=\"M17.41 7.96l-1.37-1.37c-.4-.4-.92-.59-1.43-.59-.52 0-1.04.2-1.43.59L10.3 9.45l-7.72 7.72c-.78.78-.78 2.05 0 2.83L4 21.41c.39.39.9.59 1.41.59.51 0 1.02-.2 1.41-.59l7.78-7.78 2.81-2.81c.8-.78.8-2.07 0-2.86zM5.41 20L4 18.59l7.72-7.72 1.47 1.35L5.41 20z\"/>\n",
              "  </svg>\n",
              "      </button>\n",
              "      \n",
              "  <style>\n",
              "    .colab-df-container {\n",
              "      display:flex;\n",
              "      flex-wrap:wrap;\n",
              "      gap: 12px;\n",
              "    }\n",
              "\n",
              "    .colab-df-convert {\n",
              "      background-color: #E8F0FE;\n",
              "      border: none;\n",
              "      border-radius: 50%;\n",
              "      cursor: pointer;\n",
              "      display: none;\n",
              "      fill: #1967D2;\n",
              "      height: 32px;\n",
              "      padding: 0 0 0 0;\n",
              "      width: 32px;\n",
              "    }\n",
              "\n",
              "    .colab-df-convert:hover {\n",
              "      background-color: #E2EBFA;\n",
              "      box-shadow: 0px 1px 2px rgba(60, 64, 67, 0.3), 0px 1px 3px 1px rgba(60, 64, 67, 0.15);\n",
              "      fill: #174EA6;\n",
              "    }\n",
              "\n",
              "    [theme=dark] .colab-df-convert {\n",
              "      background-color: #3B4455;\n",
              "      fill: #D2E3FC;\n",
              "    }\n",
              "\n",
              "    [theme=dark] .colab-df-convert:hover {\n",
              "      background-color: #434B5C;\n",
              "      box-shadow: 0px 1px 3px 1px rgba(0, 0, 0, 0.15);\n",
              "      filter: drop-shadow(0px 1px 2px rgba(0, 0, 0, 0.3));\n",
              "      fill: #FFFFFF;\n",
              "    }\n",
              "  </style>\n",
              "\n",
              "      <script>\n",
              "        const buttonEl =\n",
              "          document.querySelector('#df-fc06d5ef-4deb-40a0-915d-6a61789b32bf button.colab-df-convert');\n",
              "        buttonEl.style.display =\n",
              "          google.colab.kernel.accessAllowed ? 'block' : 'none';\n",
              "\n",
              "        async function convertToInteractive(key) {\n",
              "          const element = document.querySelector('#df-fc06d5ef-4deb-40a0-915d-6a61789b32bf');\n",
              "          const dataTable =\n",
              "            await google.colab.kernel.invokeFunction('convertToInteractive',\n",
              "                                                     [key], {});\n",
              "          if (!dataTable) return;\n",
              "\n",
              "          const docLinkHtml = 'Like what you see? Visit the ' +\n",
              "            '<a target=\"_blank\" href=https://colab.research.google.com/notebooks/data_table.ipynb>data table notebook</a>'\n",
              "            + ' to learn more about interactive tables.';\n",
              "          element.innerHTML = '';\n",
              "          dataTable['output_type'] = 'display_data';\n",
              "          await google.colab.output.renderOutput(dataTable, element);\n",
              "          const docLink = document.createElement('div');\n",
              "          docLink.innerHTML = docLinkHtml;\n",
              "          element.appendChild(docLink);\n",
              "        }\n",
              "      </script>\n",
              "    </div>\n",
              "  </div>\n",
              "  "
            ]
          },
          "metadata": {},
          "execution_count": 97
        }
      ]
    },
    {
      "cell_type": "code",
      "source": [
        "gs_slic_data[['open','open_predicted']].plot(figsize=(10,6))\n",
        "plt.xticks(rotation=45)\n",
        "plt.xlabel('Date',size=15)\n",
        "plt.ylabel('Stock Price',size=15)\n",
        "plt.title('Actual vs Predicted for open price',size=15)\n",
        "plt.show()"
      ],
      "metadata": {
        "id": "CFS9w3P30Hig",
        "outputId": "b5601d25-b995-479f-c7b5-bdb38a00eca5",
        "execution": {
          "iopub.status.busy": "2021-11-29T13:49:19.686953Z",
          "iopub.execute_input": "2021-11-29T13:49:19.687349Z",
          "iopub.status.idle": "2021-11-29T13:49:19.994082Z",
          "shell.execute_reply.started": "2021-11-29T13:49:19.687236Z",
          "shell.execute_reply": "2021-11-29T13:49:19.993284Z"
        },
        "trusted": true,
        "colab": {
          "base_uri": "https://localhost:8080/",
          "height": 405
        }
      },
      "execution_count": null,
      "outputs": [
        {
          "output_type": "display_data",
          "data": {
            "text/plain": [
              "<Figure size 720x432 with 1 Axes>"
            ],
            "image/png": "[encoded data removed]"
          },
          "metadata": {
            "needs_background": "light"
          }
        }
      ]
    },
    {
      "cell_type": "code",
      "source": [
        "#gs_slic_data[['close','close_predicted']].plot(figsize=(10,6))\n",
        "#plt.xticks(rotation=45)\n",
        "#plt.xlabel('Date',size=15)\n",
        "#plt.ylabel('Stock Price',size=15)\n",
        "#plt.title('Actual vs Predicted for close price',size=15)\n",
        "#plt.show()"
      ],
      "metadata": {
        "id": "YEYigZI8PFo1",
        "execution": {
          "iopub.status.busy": "2021-11-29T13:49:19.995782Z",
          "iopub.execute_input": "2021-11-29T13:49:19.996157Z",
          "iopub.status.idle": "2021-11-29T13:49:20.292287Z",
          "shell.execute_reply.started": "2021-11-29T13:49:19.996117Z",
          "shell.execute_reply": "2021-11-29T13:49:20.291632Z"
        },
        "trusted": true,
        "colab": {
          "base_uri": "https://localhost:8080/",
          "height": 405
        },
        "outputId": "854296b9-260b-4ee1-f384-203021e167e1"
      },
      "execution_count": null,
      "outputs": [
        {
          "output_type": "display_data",
          "data": {
            "image/png": "[encoded data removed]",
            "text/plain": [
              "<Figure size 720x432 with 1 Axes>"
            ]
          },
          "metadata": {
            "needs_background": "light"
          }
        }
      ]
    },
    {
      "cell_type": "markdown",
      "source": [
        "# hyper-parameter tuning"
      ],
      "metadata": {
        "id": "kP3ozi6QNHuR"
      }
    },
    {
      "cell_type": "code",
      "source": [
        "def build(hp):\n",
        "\n",
        "\n",
        "    activation = hp.Choice('activation', \n",
        "                        [\n",
        "                          'relu',\n",
        "                          'tanh',\n",
        "                          'linear',\n",
        "                          'selu',\n",
        "                          'elu'\n",
        "                        ])\n",
        "\n",
        "    num_rnn_layers = hp.Int(\n",
        "                        'num_rnn_layers', \n",
        "                        min_value=0,\n",
        "                        max_value=12,\n",
        "                        default=3)\n",
        "\n",
        "    recurrent_dropout = hp.Float(\n",
        "                        'recurrent_dropout', \n",
        "                        min_value=0.0,\n",
        "                        max_value=0.99,\n",
        "                        default=0.2)\n",
        "    num_units = hp.Int(\n",
        "                        'num_units', \n",
        "                        min_value=0,\n",
        "                        max_value=64,\n",
        "                        default=32)\n",
        "    \n",
        "    num_units2 = hp.Int(\n",
        "                        'num_units2', \n",
        "                        min_value=0,\n",
        "                        max_value=64,\n",
        "                        default=32)\n",
        "\n",
        "    model = Sequential()\n",
        "    model.add(LSTM(units=num_units, activation=activation, return_sequences=True,recurrent_dropout = recurrent_dropout,input_shape=(train_seq.shape[1], train_seq.shape[2])))\n",
        "    #model.add(LSTM(units=50, return_sequences=True, input_shape = (train_seq.shape[1], train_seq.shape[2])))\n",
        "    \n",
        "    model.add(Dropout(0.1)) \n",
        "    model.add(LSTM(units=num_units2))\n",
        "    model.add(Dense(1))\n",
        "    \n",
        "    model.compile(loss='mse', metrics=['mse'], optimizer=Adam(\n",
        "      hp.Choice('learning_rate', values=[1e-2, 1e-3, 1e-4])))\n",
        "\n",
        "\n",
        "\n",
        "    model.compile(\n",
        "      optimizer=Adam(\n",
        "      hp.Float(\n",
        "        'learning_rate',\n",
        "        min_value=1e-10,\n",
        "        max_value=1e-2,\n",
        "        sampling='LOG',\n",
        "        default=1e-6\n",
        "            ),\n",
        "\n",
        "        ),\n",
        "        loss=tf.losses.MeanSquaredError(),\n",
        "        metrics=[tf.metrics.MeanAbsoluteError()]\n",
        "    )\n",
        "    return model\n",
        "\n",
        "bayesian_opt_tuner = kt.BayesianOptimization(\n",
        "    build,\n",
        "    objective='val_mean_absolute_error',\n",
        "    max_trials=3,\n",
        "    executions_per_trial=1,\n",
        "    project_name='kerastuner_bayesian_poc',\n",
        "    overwrite=True)\n",
        "\n",
        "n_epochs=100\n",
        "\n",
        "bayesian_opt_tuner.search(train_seq, train_label,epochs=n_epochs,\n",
        "     validation_data=(test_seq, test_label),\n",
        "     validation_split=0.2,verbose=1)\n",
        "\n"
      ],
      "metadata": {
        "colab": {
          "base_uri": "https://localhost:8080/"
        },
        "id": "cWSgNQQ1NG9k",
        "outputId": "1b513c2b-c47c-47e2-cd85-74b4dbeabb35"
      },
      "execution_count": null,
      "outputs": [
        {
          "output_type": "stream",
          "name": "stdout",
          "text": [
            "Trial 3 Complete [00h 03m 26s]\n",
            "val_mean_absolute_error: 0.3489063084125519\n",
            "\n",
            "Best val_mean_absolute_error So Far: 0.00789137464016676\n",
            "Total elapsed time: 00h 09m 35s\n",
            "INFO:tensorflow:Oracle triggered exit\n"
          ]
        }
      ]
    },
    {
      "cell_type": "code",
      "source": [
        "bayes_opt_model_best_model = bayesian_opt_tuner.get_best_models(num_models=1)\n",
        "model = bayes_opt_model_best_model[0]"
      ],
      "metadata": {
        "id": "p_lMYfKhDfAt"
      },
      "execution_count": null,
      "outputs": []
    },
    {
      "cell_type": "code",
      "source": [
        "test_predicted = model.predict(test_seq)\n",
        "test_predicted[:5]\n",
        "test_inverse_predicted = MMS.inverse_transform(test_predicted) # Inversing scaling on predicted data\n",
        "test_inverse_predicted[:5]"
      ],
      "metadata": {
        "id": "EdpGclj4MZth"
      },
      "execution_count": null,
      "outputs": []
    },
    {
      "cell_type": "code",
      "source": [
        "gs_slic_data = pd.concat([google_stock_data.iloc[-202:].copy(),pd.DataFrame(test_inverse_predicted,columns=['open_predicted'],index=google_stock_data.iloc[-202:].index)], axis=1)\n",
        "gs_slic_data[['open']] = MMS.inverse_transform(gs_slic_data[['open']]) # Inverse scaling"
      ],
      "metadata": {
        "execution": {
          "iopub.status.busy": "2021-11-29T13:49:19.653615Z",
          "iopub.execute_input": "2021-11-29T13:49:19.653926Z",
          "iopub.status.idle": "2021-11-29T13:49:19.664693Z",
          "shell.execute_reply.started": "2021-11-29T13:49:19.653884Z",
          "shell.execute_reply": "2021-11-29T13:49:19.663864Z"
        },
        "trusted": true,
        "id": "W3uMimmoMr-v"
      },
      "execution_count": null,
      "outputs": []
    },
    {
      "cell_type": "code",
      "source": [
        "gs_slic_data.head()"
      ],
      "metadata": {
        "execution": {
          "iopub.status.busy": "2021-11-29T13:49:19.666076Z",
          "iopub.execute_input": "2021-11-29T13:49:19.666454Z",
          "iopub.status.idle": "2021-11-29T13:49:19.685246Z",
          "shell.execute_reply.started": "2021-11-29T13:49:19.666415Z",
          "shell.execute_reply": "2021-11-29T13:49:19.684311Z"
        },
        "trusted": true,
        "id": "HTSXQHOdMr-v"
      },
      "execution_count": null,
      "outputs": []
    },
    {
      "cell_type": "code",
      "source": [
        "gs_slic_data[['open','open_predicted']].plot(figsize=(10,6))\n",
        "plt.xticks(rotation=45)\n",
        "plt.xlabel('Date',size=15)\n",
        "plt.ylabel('Stock Price',size=15)\n",
        "plt.title('Actual vs Predicted for open price',size=15)\n",
        "plt.show()"
      ],
      "metadata": {
        "outputId": "bd0874fb-9437-421e-a856-45ee1e6247b1",
        "execution": {
          "iopub.status.busy": "2021-11-29T13:49:19.686953Z",
          "iopub.execute_input": "2021-11-29T13:49:19.687349Z",
          "iopub.status.idle": "2021-11-29T13:49:19.994082Z",
          "shell.execute_reply.started": "2021-11-29T13:49:19.687236Z",
          "shell.execute_reply": "2021-11-29T13:49:19.993284Z"
        },
        "trusted": true,
        "colab": {
          "base_uri": "https://localhost:8080/",
          "height": 235
        },
        "id": "0l3BJDWVMr-v"
      },
      "execution_count": null,
      "outputs": [
        {
          "output_type": "error",
          "ename": "NameError",
          "evalue": "ignored",
          "traceback": [
            "\u001b[0;31m---------------------------------------------------------------------------\u001b[0m",
            "\u001b[0;31mNameError\u001b[0m                                 Traceback (most recent call last)",
            "\u001b[0;32m<ipython-input-1-e37803237c11>\u001b[0m in \u001b[0;36m<module>\u001b[0;34m()\u001b[0m\n\u001b[0;32m----> 1\u001b[0;31m \u001b[0mgs_slic_data\u001b[0m\u001b[0;34m[\u001b[0m\u001b[0;34m[\u001b[0m\u001b[0;34m'open'\u001b[0m\u001b[0;34m,\u001b[0m\u001b[0;34m'open_predicted'\u001b[0m\u001b[0;34m]\u001b[0m\u001b[0;34m]\u001b[0m\u001b[0;34m.\u001b[0m\u001b[0mplot\u001b[0m\u001b[0;34m(\u001b[0m\u001b[0mfigsize\u001b[0m\u001b[0;34m=\u001b[0m\u001b[0;34m(\u001b[0m\u001b[0;36m10\u001b[0m\u001b[0;34m,\u001b[0m\u001b[0;36m6\u001b[0m\u001b[0;34m)\u001b[0m\u001b[0;34m)\u001b[0m\u001b[0;34m\u001b[0m\u001b[0;34m\u001b[0m\u001b[0m\n\u001b[0m\u001b[1;32m      2\u001b[0m \u001b[0mplt\u001b[0m\u001b[0;34m.\u001b[0m\u001b[0mxticks\u001b[0m\u001b[0;34m(\u001b[0m\u001b[0mrotation\u001b[0m\u001b[0;34m=\u001b[0m\u001b[0;36m45\u001b[0m\u001b[0;34m)\u001b[0m\u001b[0;34m\u001b[0m\u001b[0;34m\u001b[0m\u001b[0m\n\u001b[1;32m      3\u001b[0m \u001b[0mplt\u001b[0m\u001b[0;34m.\u001b[0m\u001b[0mxlabel\u001b[0m\u001b[0;34m(\u001b[0m\u001b[0;34m'Date'\u001b[0m\u001b[0;34m,\u001b[0m\u001b[0msize\u001b[0m\u001b[0;34m=\u001b[0m\u001b[0;36m15\u001b[0m\u001b[0;34m)\u001b[0m\u001b[0;34m\u001b[0m\u001b[0;34m\u001b[0m\u001b[0m\n\u001b[1;32m      4\u001b[0m \u001b[0mplt\u001b[0m\u001b[0;34m.\u001b[0m\u001b[0mylabel\u001b[0m\u001b[0;34m(\u001b[0m\u001b[0;34m'Stock Price'\u001b[0m\u001b[0;34m,\u001b[0m\u001b[0msize\u001b[0m\u001b[0;34m=\u001b[0m\u001b[0;36m15\u001b[0m\u001b[0;34m)\u001b[0m\u001b[0;34m\u001b[0m\u001b[0;34m\u001b[0m\u001b[0m\n\u001b[1;32m      5\u001b[0m \u001b[0mplt\u001b[0m\u001b[0;34m.\u001b[0m\u001b[0mtitle\u001b[0m\u001b[0;34m(\u001b[0m\u001b[0;34m'Actual vs Predicted for open price'\u001b[0m\u001b[0;34m,\u001b[0m\u001b[0msize\u001b[0m\u001b[0;34m=\u001b[0m\u001b[0;36m15\u001b[0m\u001b[0;34m)\u001b[0m\u001b[0;34m\u001b[0m\u001b[0;34m\u001b[0m\u001b[0m\n",
            "\u001b[0;31mNameError\u001b[0m: name 'gs_slic_data' is not defined"
          ]
        }
      ]
    },
    {
      "cell_type": "code",
      "source": [
        "gs_slic_data[['close','close_predicted']].plot(figsize=(10,6))\n",
        "plt.xticks(rotation=45)\n",
        "plt.xlabel('Date',size=15)\n",
        "plt.ylabel('Stock Price',size=15)\n",
        "plt.title('Actual vs Predicted for close price',size=15)\n",
        "plt.show()"
      ],
      "metadata": {
        "execution": {
          "iopub.status.busy": "2021-11-29T13:49:19.995782Z",
          "iopub.execute_input": "2021-11-29T13:49:19.996157Z",
          "iopub.status.idle": "2021-11-29T13:49:20.292287Z",
          "shell.execute_reply.started": "2021-11-29T13:49:19.996117Z",
          "shell.execute_reply": "2021-11-29T13:49:20.291632Z"
        },
        "trusted": true,
        "colab": {
          "base_uri": "https://localhost:8080/",
          "height": 405
        },
        "id": "3_xWr6GiMr-v",
        "outputId": "9ed8fc79-aef7-4da4-f7fd-e2d3c22fb611"
      },
      "execution_count": null,
      "outputs": [
        {
          "output_type": "display_data",
          "data": {
            "image/png": "[encoded data removed]",
            "text/plain": [
              "<Figure size 720x432 with 1 Axes>"
            ]
          },
          "metadata": {
            "needs_background": "light"
          }
        }
      ]
    },
    {
      "cell_type": "markdown",
      "source": [
        "# Predicting upcoming 10 days"
      ],
      "metadata": {
        "id": "WeWDN9x_6RIt"
      }
    },
    {
      "cell_type": "code",
      "source": [
        "# Creating a dataframe and adding 10 days to existing index \n",
        "\n",
        "gs_slic_data = gs_slic_data.append(pd.DataFrame(columns=gs_slic_data.columns,index=pd.date_range(start=gs_slic_data.index[-1], periods=11, freq='D', closed='right')))\n"
      ],
      "metadata": {
        "id": "ByoVNOEn0Ht4",
        "execution": {
          "iopub.status.busy": "2021-11-29T13:49:20.293526Z",
          "iopub.execute_input": "2021-11-29T13:49:20.293847Z",
          "iopub.status.idle": "2021-11-29T13:49:20.301233Z",
          "shell.execute_reply.started": "2021-11-29T13:49:20.293808Z",
          "shell.execute_reply": "2021-11-29T13:49:20.300468Z"
        },
        "trusted": true
      },
      "execution_count": null,
      "outputs": []
    },
    {
      "cell_type": "code",
      "source": [
        "gs_slic_data['2021-06-09\t':'2021-06-16']"
      ],
      "metadata": {
        "id": "1s1rK-LV9Se_",
        "outputId": "122d253b-0c4b-4d08-8f41-b301661cf8e6",
        "execution": {
          "iopub.status.busy": "2021-11-29T13:49:20.302725Z",
          "iopub.execute_input": "2021-11-29T13:49:20.303005Z",
          "iopub.status.idle": "2021-11-29T13:49:20.322565Z",
          "shell.execute_reply.started": "2021-11-29T13:49:20.302965Z",
          "shell.execute_reply": "2021-11-29T13:49:20.32171Z"
        },
        "trusted": true,
        "colab": {
          "base_uri": "https://localhost:8080/",
          "height": 300
        }
      },
      "execution_count": null,
      "outputs": [
        {
          "output_type": "execute_result",
          "data": {
            "text/html": [
              "\n",
              "  <div id=\"df-d17bc365-2470-4a51-ac1c-a37dd2659ea9\">\n",
              "    <div class=\"colab-df-container\">\n",
              "      <div>\n",
              "<style scoped>\n",
              "    .dataframe tbody tr th:only-of-type {\n",
              "        vertical-align: middle;\n",
              "    }\n",
              "\n",
              "    .dataframe tbody tr th {\n",
              "        vertical-align: top;\n",
              "    }\n",
              "\n",
              "    .dataframe thead th {\n",
              "        text-align: right;\n",
              "    }\n",
              "</style>\n",
              "<table border=\"1\" class=\"dataframe\">\n",
              "  <thead>\n",
              "    <tr style=\"text-align: right;\">\n",
              "      <th></th>\n",
              "      <th>open</th>\n",
              "      <th>close</th>\n",
              "      <th>open_d</th>\n",
              "      <th>open_predicted</th>\n",
              "      <th>close_predicted</th>\n",
              "      <th>open_d_predicted</th>\n",
              "    </tr>\n",
              "  </thead>\n",
              "  <tbody>\n",
              "    <tr>\n",
              "      <th>2021-06-09</th>\n",
              "      <td>2499.50</td>\n",
              "      <td>2491.40</td>\n",
              "      <td>2504.091524</td>\n",
              "      <td>2220.990723</td>\n",
              "      <td>2447.933594</td>\n",
              "      <td>2260.238281</td>\n",
              "    </tr>\n",
              "    <tr>\n",
              "      <th>2021-06-10</th>\n",
              "      <td>2494.01</td>\n",
              "      <td>2521.60</td>\n",
              "      <td>2492.146697</td>\n",
              "      <td>2235.330078</td>\n",
              "      <td>2465.751465</td>\n",
              "      <td>2275.700684</td>\n",
              "    </tr>\n",
              "    <tr>\n",
              "      <th>2021-06-11</th>\n",
              "      <td>2524.92</td>\n",
              "      <td>2513.93</td>\n",
              "      <td>2524.125746</td>\n",
              "      <td>2248.283203</td>\n",
              "      <td>2481.799316</td>\n",
              "      <td>2289.761230</td>\n",
              "    </tr>\n",
              "    <tr>\n",
              "      <th>2021-06-12</th>\n",
              "      <td>NaN</td>\n",
              "      <td>NaN</td>\n",
              "      <td>NaN</td>\n",
              "      <td>NaN</td>\n",
              "      <td>NaN</td>\n",
              "      <td>NaN</td>\n",
              "    </tr>\n",
              "    <tr>\n",
              "      <th>2021-06-13</th>\n",
              "      <td>NaN</td>\n",
              "      <td>NaN</td>\n",
              "      <td>NaN</td>\n",
              "      <td>NaN</td>\n",
              "      <td>NaN</td>\n",
              "      <td>NaN</td>\n",
              "    </tr>\n",
              "    <tr>\n",
              "      <th>2021-06-14</th>\n",
              "      <td>NaN</td>\n",
              "      <td>NaN</td>\n",
              "      <td>NaN</td>\n",
              "      <td>NaN</td>\n",
              "      <td>NaN</td>\n",
              "      <td>NaN</td>\n",
              "    </tr>\n",
              "    <tr>\n",
              "      <th>2021-06-15</th>\n",
              "      <td>NaN</td>\n",
              "      <td>NaN</td>\n",
              "      <td>NaN</td>\n",
              "      <td>NaN</td>\n",
              "      <td>NaN</td>\n",
              "      <td>NaN</td>\n",
              "    </tr>\n",
              "    <tr>\n",
              "      <th>2021-06-16</th>\n",
              "      <td>NaN</td>\n",
              "      <td>NaN</td>\n",
              "      <td>NaN</td>\n",
              "      <td>NaN</td>\n",
              "      <td>NaN</td>\n",
              "      <td>NaN</td>\n",
              "    </tr>\n",
              "  </tbody>\n",
              "</table>\n",
              "</div>\n",
              "      <button class=\"colab-df-convert\" onclick=\"convertToInteractive('df-d17bc365-2470-4a51-ac1c-a37dd2659ea9')\"\n",
              "              title=\"Convert this dataframe to an interactive table.\"\n",
              "              style=\"display:none;\">\n",
              "        \n",
              "  <svg xmlns=\"http://www.w3.org/2000/svg\" height=\"24px\"viewBox=\"0 0 24 24\"\n",
              "       width=\"24px\">\n",
              "    <path d=\"M0 0h24v24H0V0z\" fill=\"none\"/>\n",
              "    <path d=\"M18.56 5.44l.94 2.06.94-2.06 2.06-.94-2.06-.94-.94-2.06-.94 2.06-2.06.94zm-11 1L8.5 8.5l.94-2.06 2.06-.94-2.06-.94L8.5 2.5l-.94 2.06-2.06.94zm10 10l.94 2.06.94-2.06 2.06-.94-2.06-.94-.94-2.06-.94 2.06-2.06.94z\"/><path d=\"M17.41 7.96l-1.37-1.37c-.4-.4-.92-.59-1.43-.59-.52 0-1.04.2-1.43.59L10.3 9.45l-7.72 7.72c-.78.78-.78 2.05 0 2.83L4 21.41c.39.39.9.59 1.41.59.51 0 1.02-.2 1.41-.59l7.78-7.78 2.81-2.81c.8-.78.8-2.07 0-2.86zM5.41 20L4 18.59l7.72-7.72 1.47 1.35L5.41 20z\"/>\n",
              "  </svg>\n",
              "      </button>\n",
              "      \n",
              "  <style>\n",
              "    .colab-df-container {\n",
              "      display:flex;\n",
              "      flex-wrap:wrap;\n",
              "      gap: 12px;\n",
              "    }\n",
              "\n",
              "    .colab-df-convert {\n",
              "      background-color: #E8F0FE;\n",
              "      border: none;\n",
              "      border-radius: 50%;\n",
              "      cursor: pointer;\n",
              "      display: none;\n",
              "      fill: #1967D2;\n",
              "      height: 32px;\n",
              "      padding: 0 0 0 0;\n",
              "      width: 32px;\n",
              "    }\n",
              "\n",
              "    .colab-df-convert:hover {\n",
              "      background-color: #E2EBFA;\n",
              "      box-shadow: 0px 1px 2px rgba(60, 64, 67, 0.3), 0px 1px 3px 1px rgba(60, 64, 67, 0.15);\n",
              "      fill: #174EA6;\n",
              "    }\n",
              "\n",
              "    [theme=dark] .colab-df-convert {\n",
              "      background-color: #3B4455;\n",
              "      fill: #D2E3FC;\n",
              "    }\n",
              "\n",
              "    [theme=dark] .colab-df-convert:hover {\n",
              "      background-color: #434B5C;\n",
              "      box-shadow: 0px 1px 3px 1px rgba(0, 0, 0, 0.15);\n",
              "      filter: drop-shadow(0px 1px 2px rgba(0, 0, 0, 0.3));\n",
              "      fill: #FFFFFF;\n",
              "    }\n",
              "  </style>\n",
              "\n",
              "      <script>\n",
              "        const buttonEl =\n",
              "          document.querySelector('#df-d17bc365-2470-4a51-ac1c-a37dd2659ea9 button.colab-df-convert');\n",
              "        buttonEl.style.display =\n",
              "          google.colab.kernel.accessAllowed ? 'block' : 'none';\n",
              "\n",
              "        async function convertToInteractive(key) {\n",
              "          const element = document.querySelector('#df-d17bc365-2470-4a51-ac1c-a37dd2659ea9');\n",
              "          const dataTable =\n",
              "            await google.colab.kernel.invokeFunction('convertToInteractive',\n",
              "                                                     [key], {});\n",
              "          if (!dataTable) return;\n",
              "\n",
              "          const docLinkHtml = 'Like what you see? Visit the ' +\n",
              "            '<a target=\"_blank\" href=https://colab.research.google.com/notebooks/data_table.ipynb>data table notebook</a>'\n",
              "            + ' to learn more about interactive tables.';\n",
              "          element.innerHTML = '';\n",
              "          dataTable['output_type'] = 'display_data';\n",
              "          await google.colab.output.renderOutput(dataTable, element);\n",
              "          const docLink = document.createElement('div');\n",
              "          docLink.innerHTML = docLinkHtml;\n",
              "          element.appendChild(docLink);\n",
              "        }\n",
              "      </script>\n",
              "    </div>\n",
              "  </div>\n",
              "  "
            ],
            "text/plain": [
              "               open    close  ...  close_predicted  open_d_predicted\n",
              "2021-06-09  2499.50  2491.40  ...      2447.933594       2260.238281\n",
              "2021-06-10  2494.01  2521.60  ...      2465.751465       2275.700684\n",
              "2021-06-11  2524.92  2513.93  ...      2481.799316       2289.761230\n",
              "2021-06-12      NaN      NaN  ...              NaN               NaN\n",
              "2021-06-13      NaN      NaN  ...              NaN               NaN\n",
              "2021-06-14      NaN      NaN  ...              NaN               NaN\n",
              "2021-06-15      NaN      NaN  ...              NaN               NaN\n",
              "2021-06-16      NaN      NaN  ...              NaN               NaN\n",
              "\n",
              "[8 rows x 6 columns]"
            ]
          },
          "metadata": {},
          "execution_count": 84
        }
      ]
    },
    {
      "cell_type": "code",
      "source": [
        "upcoming_prediction = pd.DataFrame(columns=['open','close'],index=gs_slic_data.index)\n",
        "upcoming_prediction.index=pd.to_datetime(upcoming_prediction.index)"
      ],
      "metadata": {
        "id": "NZrOofTiTUpA",
        "execution": {
          "iopub.status.busy": "2021-11-29T13:49:20.324087Z",
          "iopub.execute_input": "2021-11-29T13:49:20.324301Z",
          "iopub.status.idle": "2021-11-29T13:49:20.333098Z",
          "shell.execute_reply.started": "2021-11-29T13:49:20.324276Z",
          "shell.execute_reply": "2021-11-29T13:49:20.332265Z"
        },
        "trusted": true
      },
      "execution_count": null,
      "outputs": []
    },
    {
      "cell_type": "code",
      "source": [
        "curr_seq = test_seq[-1:]\n",
        "\n",
        "for i in range(-10,0):\n",
        "  up_pred = model.predict(curr_seq)\n",
        "  upcoming_prediction.iloc[i] = up_pred\n",
        "  curr_seq = np.append(curr_seq[0][1:],up_pred,axis=0)\n",
        "  curr_seq = curr_seq.reshape(test_seq[-1:].shape)\n"
      ],
      "metadata": {
        "id": "fexYhMesZHEy",
        "execution": {
          "iopub.status.busy": "2021-11-29T13:49:20.337766Z",
          "iopub.execute_input": "2021-11-29T13:49:20.337988Z",
          "iopub.status.idle": "2021-11-29T13:49:20.72577Z",
          "shell.execute_reply.started": "2021-11-29T13:49:20.337962Z",
          "shell.execute_reply": "2021-11-29T13:49:20.725047Z"
        },
        "trusted": true,
        "colab": {
          "base_uri": "https://localhost:8080/",
          "height": 380
        },
        "outputId": "418625e9-4a4b-4c34-ef78-e8bee3498146"
      },
      "execution_count": null,
      "outputs": [
        {
          "output_type": "error",
          "ename": "ValueError",
          "evalue": "ignored",
          "traceback": [
            "\u001b[0;31m---------------------------------------------------------------------------\u001b[0m",
            "\u001b[0;31mValueError\u001b[0m                                Traceback (most recent call last)",
            "\u001b[0;32m<ipython-input-86-8b4320ec0a61>\u001b[0m in \u001b[0;36m<module>\u001b[0;34m()\u001b[0m\n\u001b[1;32m      3\u001b[0m \u001b[0;32mfor\u001b[0m \u001b[0mi\u001b[0m \u001b[0;32min\u001b[0m \u001b[0mrange\u001b[0m\u001b[0;34m(\u001b[0m\u001b[0;34m-\u001b[0m\u001b[0;36m10\u001b[0m\u001b[0;34m,\u001b[0m\u001b[0;36m0\u001b[0m\u001b[0;34m)\u001b[0m\u001b[0;34m:\u001b[0m\u001b[0;34m\u001b[0m\u001b[0;34m\u001b[0m\u001b[0m\n\u001b[1;32m      4\u001b[0m   \u001b[0mup_pred\u001b[0m \u001b[0;34m=\u001b[0m \u001b[0mmodel\u001b[0m\u001b[0;34m.\u001b[0m\u001b[0mpredict\u001b[0m\u001b[0;34m(\u001b[0m\u001b[0mcurr_seq\u001b[0m\u001b[0;34m)\u001b[0m\u001b[0;34m\u001b[0m\u001b[0;34m\u001b[0m\u001b[0m\n\u001b[0;32m----> 5\u001b[0;31m   \u001b[0mupcoming_prediction\u001b[0m\u001b[0;34m.\u001b[0m\u001b[0miloc\u001b[0m\u001b[0;34m[\u001b[0m\u001b[0mi\u001b[0m\u001b[0;34m]\u001b[0m \u001b[0;34m=\u001b[0m \u001b[0mup_pred\u001b[0m\u001b[0;34m\u001b[0m\u001b[0;34m\u001b[0m\u001b[0m\n\u001b[0m\u001b[1;32m      6\u001b[0m   \u001b[0mcurr_seq\u001b[0m \u001b[0;34m=\u001b[0m \u001b[0mnp\u001b[0m\u001b[0;34m.\u001b[0m\u001b[0mappend\u001b[0m\u001b[0;34m(\u001b[0m\u001b[0mcurr_seq\u001b[0m\u001b[0;34m[\u001b[0m\u001b[0;36m0\u001b[0m\u001b[0;34m]\u001b[0m\u001b[0;34m[\u001b[0m\u001b[0;36m1\u001b[0m\u001b[0;34m:\u001b[0m\u001b[0;34m]\u001b[0m\u001b[0;34m,\u001b[0m\u001b[0mup_pred\u001b[0m\u001b[0;34m,\u001b[0m\u001b[0maxis\u001b[0m\u001b[0;34m=\u001b[0m\u001b[0;36m0\u001b[0m\u001b[0;34m)\u001b[0m\u001b[0;34m\u001b[0m\u001b[0;34m\u001b[0m\u001b[0m\n\u001b[1;32m      7\u001b[0m   \u001b[0mcurr_seq\u001b[0m \u001b[0;34m=\u001b[0m \u001b[0mcurr_seq\u001b[0m\u001b[0;34m.\u001b[0m\u001b[0mreshape\u001b[0m\u001b[0;34m(\u001b[0m\u001b[0mtest_seq\u001b[0m\u001b[0;34m[\u001b[0m\u001b[0;34m-\u001b[0m\u001b[0;36m1\u001b[0m\u001b[0;34m:\u001b[0m\u001b[0;34m]\u001b[0m\u001b[0;34m.\u001b[0m\u001b[0mshape\u001b[0m\u001b[0;34m)\u001b[0m\u001b[0;34m\u001b[0m\u001b[0;34m\u001b[0m\u001b[0m\n",
            "\u001b[0;32m/usr/local/lib/python3.7/dist-packages/pandas/core/indexing.py\u001b[0m in \u001b[0;36m__setitem__\u001b[0;34m(self, key, value)\u001b[0m\n\u001b[1;32m    721\u001b[0m \u001b[0;34m\u001b[0m\u001b[0m\n\u001b[1;32m    722\u001b[0m         \u001b[0miloc\u001b[0m \u001b[0;34m=\u001b[0m \u001b[0mself\u001b[0m \u001b[0;32mif\u001b[0m \u001b[0mself\u001b[0m\u001b[0;34m.\u001b[0m\u001b[0mname\u001b[0m \u001b[0;34m==\u001b[0m \u001b[0;34m\"iloc\"\u001b[0m \u001b[0;32melse\u001b[0m \u001b[0mself\u001b[0m\u001b[0;34m.\u001b[0m\u001b[0mobj\u001b[0m\u001b[0;34m.\u001b[0m\u001b[0miloc\u001b[0m\u001b[0;34m\u001b[0m\u001b[0;34m\u001b[0m\u001b[0m\n\u001b[0;32m--> 723\u001b[0;31m         \u001b[0miloc\u001b[0m\u001b[0;34m.\u001b[0m\u001b[0m_setitem_with_indexer\u001b[0m\u001b[0;34m(\u001b[0m\u001b[0mindexer\u001b[0m\u001b[0;34m,\u001b[0m \u001b[0mvalue\u001b[0m\u001b[0;34m,\u001b[0m \u001b[0mself\u001b[0m\u001b[0;34m.\u001b[0m\u001b[0mname\u001b[0m\u001b[0;34m)\u001b[0m\u001b[0;34m\u001b[0m\u001b[0;34m\u001b[0m\u001b[0m\n\u001b[0m\u001b[1;32m    724\u001b[0m \u001b[0;34m\u001b[0m\u001b[0m\n\u001b[1;32m    725\u001b[0m     \u001b[0;32mdef\u001b[0m \u001b[0m_validate_key\u001b[0m\u001b[0;34m(\u001b[0m\u001b[0mself\u001b[0m\u001b[0;34m,\u001b[0m \u001b[0mkey\u001b[0m\u001b[0;34m,\u001b[0m \u001b[0maxis\u001b[0m\u001b[0;34m:\u001b[0m \u001b[0mint\u001b[0m\u001b[0;34m)\u001b[0m\u001b[0;34m:\u001b[0m\u001b[0;34m\u001b[0m\u001b[0;34m\u001b[0m\u001b[0m\n",
            "\u001b[0;32m/usr/local/lib/python3.7/dist-packages/pandas/core/indexing.py\u001b[0m in \u001b[0;36m_setitem_with_indexer\u001b[0;34m(self, indexer, value, name)\u001b[0m\n\u001b[1;32m   1730\u001b[0m             \u001b[0mself\u001b[0m\u001b[0;34m.\u001b[0m\u001b[0m_setitem_with_indexer_split_path\u001b[0m\u001b[0;34m(\u001b[0m\u001b[0mindexer\u001b[0m\u001b[0;34m,\u001b[0m \u001b[0mvalue\u001b[0m\u001b[0;34m,\u001b[0m \u001b[0mname\u001b[0m\u001b[0;34m)\u001b[0m\u001b[0;34m\u001b[0m\u001b[0;34m\u001b[0m\u001b[0m\n\u001b[1;32m   1731\u001b[0m         \u001b[0;32melse\u001b[0m\u001b[0;34m:\u001b[0m\u001b[0;34m\u001b[0m\u001b[0;34m\u001b[0m\u001b[0m\n\u001b[0;32m-> 1732\u001b[0;31m             \u001b[0mself\u001b[0m\u001b[0;34m.\u001b[0m\u001b[0m_setitem_single_block\u001b[0m\u001b[0;34m(\u001b[0m\u001b[0mindexer\u001b[0m\u001b[0;34m,\u001b[0m \u001b[0mvalue\u001b[0m\u001b[0;34m,\u001b[0m \u001b[0mname\u001b[0m\u001b[0;34m)\u001b[0m\u001b[0;34m\u001b[0m\u001b[0;34m\u001b[0m\u001b[0m\n\u001b[0m\u001b[1;32m   1733\u001b[0m \u001b[0;34m\u001b[0m\u001b[0m\n\u001b[1;32m   1734\u001b[0m     \u001b[0;32mdef\u001b[0m \u001b[0m_setitem_with_indexer_split_path\u001b[0m\u001b[0;34m(\u001b[0m\u001b[0mself\u001b[0m\u001b[0;34m,\u001b[0m \u001b[0mindexer\u001b[0m\u001b[0;34m,\u001b[0m \u001b[0mvalue\u001b[0m\u001b[0;34m,\u001b[0m \u001b[0mname\u001b[0m\u001b[0;34m:\u001b[0m \u001b[0mstr\u001b[0m\u001b[0;34m)\u001b[0m\u001b[0;34m:\u001b[0m\u001b[0;34m\u001b[0m\u001b[0;34m\u001b[0m\u001b[0m\n",
            "\u001b[0;32m/usr/local/lib/python3.7/dist-packages/pandas/core/indexing.py\u001b[0m in \u001b[0;36m_setitem_single_block\u001b[0;34m(self, indexer, value, name)\u001b[0m\n\u001b[1;32m   1966\u001b[0m \u001b[0;34m\u001b[0m\u001b[0m\n\u001b[1;32m   1967\u001b[0m         \u001b[0;31m# actually do the set\u001b[0m\u001b[0;34m\u001b[0m\u001b[0;34m\u001b[0m\u001b[0;34m\u001b[0m\u001b[0m\n\u001b[0;32m-> 1968\u001b[0;31m         \u001b[0mself\u001b[0m\u001b[0;34m.\u001b[0m\u001b[0mobj\u001b[0m\u001b[0;34m.\u001b[0m\u001b[0m_mgr\u001b[0m \u001b[0;34m=\u001b[0m \u001b[0mself\u001b[0m\u001b[0;34m.\u001b[0m\u001b[0mobj\u001b[0m\u001b[0;34m.\u001b[0m\u001b[0m_mgr\u001b[0m\u001b[0;34m.\u001b[0m\u001b[0msetitem\u001b[0m\u001b[0;34m(\u001b[0m\u001b[0mindexer\u001b[0m\u001b[0;34m=\u001b[0m\u001b[0mindexer\u001b[0m\u001b[0;34m,\u001b[0m \u001b[0mvalue\u001b[0m\u001b[0;34m=\u001b[0m\u001b[0mvalue\u001b[0m\u001b[0;34m)\u001b[0m\u001b[0;34m\u001b[0m\u001b[0;34m\u001b[0m\u001b[0m\n\u001b[0m\u001b[1;32m   1969\u001b[0m         \u001b[0mself\u001b[0m\u001b[0;34m.\u001b[0m\u001b[0mobj\u001b[0m\u001b[0;34m.\u001b[0m\u001b[0m_maybe_update_cacher\u001b[0m\u001b[0;34m(\u001b[0m\u001b[0mclear\u001b[0m\u001b[0;34m=\u001b[0m\u001b[0;32mTrue\u001b[0m\u001b[0;34m)\u001b[0m\u001b[0;34m\u001b[0m\u001b[0;34m\u001b[0m\u001b[0m\n\u001b[1;32m   1970\u001b[0m \u001b[0;34m\u001b[0m\u001b[0m\n",
            "\u001b[0;32m/usr/local/lib/python3.7/dist-packages/pandas/core/internals/managers.py\u001b[0m in \u001b[0;36msetitem\u001b[0;34m(self, indexer, value)\u001b[0m\n\u001b[1;32m    353\u001b[0m \u001b[0;34m\u001b[0m\u001b[0m\n\u001b[1;32m    354\u001b[0m     \u001b[0;32mdef\u001b[0m \u001b[0msetitem\u001b[0m\u001b[0;34m(\u001b[0m\u001b[0mself\u001b[0m\u001b[0;34m:\u001b[0m \u001b[0mT\u001b[0m\u001b[0;34m,\u001b[0m \u001b[0mindexer\u001b[0m\u001b[0;34m,\u001b[0m \u001b[0mvalue\u001b[0m\u001b[0;34m)\u001b[0m \u001b[0;34m->\u001b[0m \u001b[0mT\u001b[0m\u001b[0;34m:\u001b[0m\u001b[0;34m\u001b[0m\u001b[0;34m\u001b[0m\u001b[0m\n\u001b[0;32m--> 355\u001b[0;31m         \u001b[0;32mreturn\u001b[0m \u001b[0mself\u001b[0m\u001b[0;34m.\u001b[0m\u001b[0mapply\u001b[0m\u001b[0;34m(\u001b[0m\u001b[0;34m\"setitem\"\u001b[0m\u001b[0;34m,\u001b[0m \u001b[0mindexer\u001b[0m\u001b[0;34m=\u001b[0m\u001b[0mindexer\u001b[0m\u001b[0;34m,\u001b[0m \u001b[0mvalue\u001b[0m\u001b[0;34m=\u001b[0m\u001b[0mvalue\u001b[0m\u001b[0;34m)\u001b[0m\u001b[0;34m\u001b[0m\u001b[0;34m\u001b[0m\u001b[0m\n\u001b[0m\u001b[1;32m    356\u001b[0m \u001b[0;34m\u001b[0m\u001b[0m\n\u001b[1;32m    357\u001b[0m     \u001b[0;32mdef\u001b[0m \u001b[0mputmask\u001b[0m\u001b[0;34m(\u001b[0m\u001b[0mself\u001b[0m\u001b[0;34m,\u001b[0m \u001b[0mmask\u001b[0m\u001b[0;34m,\u001b[0m \u001b[0mnew\u001b[0m\u001b[0;34m,\u001b[0m \u001b[0malign\u001b[0m\u001b[0;34m:\u001b[0m \u001b[0mbool\u001b[0m \u001b[0;34m=\u001b[0m \u001b[0;32mTrue\u001b[0m\u001b[0;34m)\u001b[0m\u001b[0;34m:\u001b[0m\u001b[0;34m\u001b[0m\u001b[0;34m\u001b[0m\u001b[0m\n",
            "\u001b[0;32m/usr/local/lib/python3.7/dist-packages/pandas/core/internals/managers.py\u001b[0m in \u001b[0;36mapply\u001b[0;34m(self, f, align_keys, ignore_failures, **kwargs)\u001b[0m\n\u001b[1;32m    325\u001b[0m                     \u001b[0mapplied\u001b[0m \u001b[0;34m=\u001b[0m \u001b[0mb\u001b[0m\u001b[0;34m.\u001b[0m\u001b[0mapply\u001b[0m\u001b[0;34m(\u001b[0m\u001b[0mf\u001b[0m\u001b[0;34m,\u001b[0m \u001b[0;34m**\u001b[0m\u001b[0mkwargs\u001b[0m\u001b[0;34m)\u001b[0m\u001b[0;34m\u001b[0m\u001b[0;34m\u001b[0m\u001b[0m\n\u001b[1;32m    326\u001b[0m                 \u001b[0;32melse\u001b[0m\u001b[0;34m:\u001b[0m\u001b[0;34m\u001b[0m\u001b[0;34m\u001b[0m\u001b[0m\n\u001b[0;32m--> 327\u001b[0;31m                     \u001b[0mapplied\u001b[0m \u001b[0;34m=\u001b[0m \u001b[0mgetattr\u001b[0m\u001b[0;34m(\u001b[0m\u001b[0mb\u001b[0m\u001b[0;34m,\u001b[0m \u001b[0mf\u001b[0m\u001b[0;34m)\u001b[0m\u001b[0;34m(\u001b[0m\u001b[0;34m**\u001b[0m\u001b[0mkwargs\u001b[0m\u001b[0;34m)\u001b[0m\u001b[0;34m\u001b[0m\u001b[0;34m\u001b[0m\u001b[0m\n\u001b[0m\u001b[1;32m    328\u001b[0m             \u001b[0;32mexcept\u001b[0m \u001b[0;34m(\u001b[0m\u001b[0mTypeError\u001b[0m\u001b[0;34m,\u001b[0m \u001b[0mNotImplementedError\u001b[0m\u001b[0;34m)\u001b[0m\u001b[0;34m:\u001b[0m\u001b[0;34m\u001b[0m\u001b[0;34m\u001b[0m\u001b[0m\n\u001b[1;32m    329\u001b[0m                 \u001b[0;32mif\u001b[0m \u001b[0;32mnot\u001b[0m \u001b[0mignore_failures\u001b[0m\u001b[0;34m:\u001b[0m\u001b[0;34m\u001b[0m\u001b[0;34m\u001b[0m\u001b[0m\n",
            "\u001b[0;32m/usr/local/lib/python3.7/dist-packages/pandas/core/internals/blocks.py\u001b[0m in \u001b[0;36msetitem\u001b[0;34m(self, indexer, value)\u001b[0m\n\u001b[1;32m    981\u001b[0m                 \u001b[0mvalues\u001b[0m\u001b[0;34m,\u001b[0m \u001b[0mlen\u001b[0m\u001b[0;34m(\u001b[0m\u001b[0mvalues\u001b[0m\u001b[0;34m[\u001b[0m\u001b[0mindexer\u001b[0m\u001b[0;34m]\u001b[0m\u001b[0;34m)\u001b[0m\u001b[0;34m,\u001b[0m \u001b[0mvalue\u001b[0m  \u001b[0;31m# type: ignore[arg-type]\u001b[0m\u001b[0;34m\u001b[0m\u001b[0;34m\u001b[0m\u001b[0m\n\u001b[1;32m    982\u001b[0m             )\n\u001b[0;32m--> 983\u001b[0;31m             \u001b[0mvalues\u001b[0m\u001b[0;34m[\u001b[0m\u001b[0mindexer\u001b[0m\u001b[0;34m]\u001b[0m \u001b[0;34m=\u001b[0m \u001b[0mvalue\u001b[0m\u001b[0;34m\u001b[0m\u001b[0;34m\u001b[0m\u001b[0m\n\u001b[0m\u001b[1;32m    984\u001b[0m \u001b[0;34m\u001b[0m\u001b[0m\n\u001b[1;32m    985\u001b[0m         \u001b[0;32mif\u001b[0m \u001b[0mtranspose\u001b[0m\u001b[0;34m:\u001b[0m\u001b[0;34m\u001b[0m\u001b[0;34m\u001b[0m\u001b[0m\n",
            "\u001b[0;31mValueError\u001b[0m: could not broadcast input array from shape (3,) into shape (2,)"
          ]
        }
      ]
    },
    {
      "cell_type": "code",
      "source": [
        "curr_seq"
      ],
      "metadata": {
        "id": "vimAHFfEWNdY"
      },
      "execution_count": null,
      "outputs": []
    },
    {
      "cell_type": "code",
      "source": [
        "upcoming_prediction[['open','close']] = MMS.inverse_transform(upcoming_prediction[['open','close']])"
      ],
      "metadata": {
        "id": "ffiWW_EIZHMT",
        "execution": {
          "iopub.status.busy": "2021-11-29T13:49:20.727224Z",
          "iopub.execute_input": "2021-11-29T13:49:20.727526Z",
          "iopub.status.idle": "2021-11-29T13:49:20.734256Z",
          "shell.execute_reply.started": "2021-11-29T13:49:20.72749Z",
          "shell.execute_reply": "2021-11-29T13:49:20.733588Z"
        },
        "trusted": true
      },
      "execution_count": null,
      "outputs": []
    },
    {
      "cell_type": "code",
      "source": [
        "fg,ax=plt.subplots(figsize=(10,5))\n",
        "ax.plot(gs_slic_data.loc['2021-04-01':,'open'],label='Current Open Price')\n",
        "ax.plot(upcoming_prediction.loc['2021-04-01':,'open'],label='Upcoming Open Price')\n",
        "plt.setp(ax.xaxis.get_majorticklabels(), rotation=45)\n",
        "ax.set_xlabel('Date',size=15)\n",
        "ax.set_ylabel('Stock Price',size=15)\n",
        "ax.set_title('Upcoming Open price prediction',size=15)\n",
        "ax.legend()\n",
        "fg.show()"
      ],
      "metadata": {
        "id": "4DvMiPkTVlEe",
        "execution": {
          "iopub.status.busy": "2021-11-29T13:49:20.735519Z",
          "iopub.execute_input": "2021-11-29T13:49:20.735962Z",
          "iopub.status.idle": "2021-11-29T13:49:21.027881Z",
          "shell.execute_reply.started": "2021-11-29T13:49:20.735924Z",
          "shell.execute_reply": "2021-11-29T13:49:21.027092Z"
        },
        "trusted": true
      },
      "execution_count": null,
      "outputs": []
    },
    {
      "cell_type": "code",
      "source": [
        "fg,ax=plt.subplots(figsize=(10,5))\n",
        "ax.plot(gs_slic_data.loc['2021-04-01':,'close'],label='Current close Price')\n",
        "ax.plot(upcoming_prediction.loc['2021-04-01':,'close'],label='Upcoming close Price')\n",
        "plt.setp(ax.xaxis.get_majorticklabels(), rotation=45)\n",
        "ax.set_xlabel('Date',size=15)\n",
        "ax.set_ylabel('Stock Price',size=15)\n",
        "ax.set_title('Upcoming close price prediction',size=15)\n",
        "ax.legend()\n",
        "fg.show()"
      ],
      "metadata": {
        "id": "r9EK16p7m8ZK",
        "execution": {
          "iopub.status.busy": "2021-11-29T13:49:21.029473Z",
          "iopub.execute_input": "2021-11-29T13:49:21.029734Z",
          "iopub.status.idle": "2021-11-29T13:49:21.332903Z",
          "shell.execute_reply.started": "2021-11-29T13:49:21.029698Z",
          "shell.execute_reply": "2021-11-29T13:49:21.332206Z"
        },
        "trusted": true
      },
      "execution_count": null,
      "outputs": []
    },
    {
      "cell_type": "code",
      "source": [
        ""
      ],
      "metadata": {
        "id": "r0Fx4bIb7Phw"
      },
      "execution_count": null,
      "outputs": []
    },
    {
      "cell_type": "code",
      "source": [
        "def nn_cl_bo(neurons, activation, optimizer, learning_rate,  batch_size, epochs ):\n",
        "    optimizerL = ['SGD', 'Adam', 'RMSprop', 'Adadelta', 'Adagrad', 'Adamax', 'Nadam', 'Ftrl','SGD']\n",
        "    optimizerD= {'Adam':Adam(lr=learning_rate), 'SGD':SGD(lr=learning_rate),\n",
        "                 'RMSprop':RMSprop(lr=learning_rate), 'Adadelta':Adadelta(lr=learning_rate),\n",
        "                 'Adagrad':Adagrad(lr=learning_rate), 'Adamax':Adamax(lr=learning_rate),\n",
        "                 'Nadam':Nadam(lr=learning_rate), 'Ftrl':Ftrl(lr=learning_rate)}\n",
        "        \n",
        "    activationL = ['relu', 'sigmoid', 'softplus', 'softsign', 'tanh', 'selu',\n",
        "                   'elu', 'exponential', LeakyReLU,'relu']\n",
        "    \n",
        "    neurons = round(neurons)\n",
        "    activation = activationL[round(activation)]\n",
        "    batch_size = round(batch_size)\n",
        "    epochs = round(epochs)\n",
        "    \n",
        "    def nn_cl_fun():\n",
        "        opt = Adam(lr = learning_rate)\n",
        "        nn = Sequential()\n",
        "        nn.add(LSTM(units=neurons, activation=activation, return_sequences=True,input_shape=(train_seq.shape[1], train_seq.shape[2])))\n",
        "        #model.add(LSTM(units=50, return_sequences=True, input_shape = (train_seq.shape[1], train_seq.shape[2])))\n",
        "        \n",
        "        nn.add(Dropout(0.1)) \n",
        "        nn.add(LSTM(units=32))\n",
        "        nn.add(Dense(3))\n",
        "        nn.compile(loss='binary_crossentropy', optimizer=opt, metrics=['accuracy'])\n",
        "\n",
        "        return nn\n",
        "\n",
        "\n",
        "    \n",
        "    es = EarlyStopping(monitor='accuracy', mode='max', verbose=0, patience=20)\n",
        "    nn = KerasClassifier(build_fn=nn_cl_fun, epochs=epochs, batch_size=batch_size,\n",
        "                         verbose=0)\n",
        "    \n",
        "    kfold = KFold(n_splits=5, shuffle=True, random_state=123)\n",
        "    score = cross_val_score(nn, train_seq, train_label, scoring=score_acc, cv=kfold, fit_params={'callbacks':[es]}).mean()\n",
        "    #score = cross_val_score(nn, X_train, y_train, scoring=score_acc, cv=kfold).mean()\n",
        "    \n",
        "    return score"
      ],
      "metadata": {
        "id": "bj4HzrcBuKVz"
      },
      "execution_count": null,
      "outputs": []
    },
    {
      "cell_type": "code",
      "source": [
        "train_label"
      ],
      "metadata": {
        "id": "bQ8G4khByEIK"
      },
      "execution_count": null,
      "outputs": []
    },
    {
      "cell_type": "code",
      "source": [
        "#params_nn ={\n",
        "    'neurons': (10, 100),\n",
        "    'activation':(0, 9),\n",
        "    'optimizer':(0,7),\n",
        "    'learning_rate':(0.01, 1),\n",
        "    'batch_size':(200, 1000),\n",
        "    'epochs':(20, 100)\n",
        "}\n",
        "\n",
        "# Run Bayesian Optimization\n",
        "nn_bo = BayesianOptimization(nn_cl_bo, params_nn, random_state=111)\n",
        "nn_bo.maximize(init_points=155, n_iter=4)"
      ],
      "metadata": {
        "id": "hD2iBbqQwAhg"
      },
      "execution_count": null,
      "outputs": []
    },
    {
      "cell_type": "code",
      "source": [
        "'''     \n",
        "\n",
        "        \n",
        "        nn = Sequential()\n",
        "        nn.add(Dense(neurons, input_dim=10, activation=activation))\n",
        "        nn.add(Dense(neurons, activation=activation))\n",
        "        nn.add(Dense(1, activation='sigmoid'))\n",
        "        nn.compile(loss='binary_crossentropy', optimizer=opt, metrics=['accuracy'])\n",
        "'''\n",
        "    "
      ],
      "metadata": {
        "id": "xJPcsh2TvasY"
      },
      "execution_count": null,
      "outputs": []
    },
    {
      "cell_type": "code",
      "source": [
        "test=[]\n",
        "for i in range(len(test_inverse_predicted)):\n",
        "  test.append(test_inverse_predicted[i][2])"
      ],
      "metadata": {
        "id": "ZyLSPRv-y-dZ"
      },
      "execution_count": null,
      "outputs": []
    },
    {
      "cell_type": "code",
      "source": [
        "pywt.waverec(test, 'db4')"
      ],
      "metadata": {
        "id": "CMC5IDFby6JK"
      },
      "execution_count": null,
      "outputs": []
    }
  ]
}
