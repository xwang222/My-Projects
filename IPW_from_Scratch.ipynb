{
  "nbformat": 4,
  "nbformat_minor": 0,
  "metadata": {
    "colab": {
      "provenance": [],
      "mount_file_id": "1zvykA360Yf6w_svNaigtp2lFBG_Xz2mw",
      "authorship_tag": "ABX9TyNbiBZSfaFww2IQGUVJOSTY",
      "include_colab_link": true
    },
    "kernelspec": {
      "name": "python3",
      "display_name": "Python 3"
    },
    "language_info": {
      "name": "python"
    }
  },
  "cells": [
    {
      "cell_type": "markdown",
      "metadata": {
        "id": "view-in-github",
        "colab_type": "text"
      },
      "source": [
        "<a href=\"https://colab.research.google.com/github/xwang222/My-Projects/blob/main/IPW_from_Scratch.ipynb\" target=\"_parent\"><img src=\"https://colab.research.google.com/assets/colab-badge.svg\" alt=\"Open In Colab\"/></a>"
      ]
    },
    {
      "cell_type": "markdown",
      "source": [
        "##### This notebook is a modified version of https://gist.github.com/BioSciEconomist/826556977841cbf966f03542b2be0c55\n",
        "\n",
        "Compared to the original notebook, I showed how to reconcile the results from package with my calculation from scratch."
      ],
      "metadata": {
        "id": "UIIc1P0MNIxh"
      }
    },
    {
      "cell_type": "code",
      "source": [
        "# Import pandas  and numpy\n",
        "import pandas as pd\n",
        "import numpy as np\n",
        "import statsmodels.api as sm # import stastmodels\n",
        "import statsmodels.formula.api as smf # this allows us to use an explicit formulation\n",
        "from statsmodels.stats.weightstats import DescrStatsW\n",
        "from scipy.stats import t\n",
        "df = pd.read_csv('/content/drive/MyDrive/londe.csv')"
      ],
      "metadata": {
        "id": "QH-pMgDKr-zS"
      },
      "execution_count": 1,
      "outputs": []
    },
    {
      "cell_type": "markdown",
      "source": [
        "#### Produce Propensity Score"
      ],
      "metadata": {
        "id": "I9N1_99AN7N2"
      }
    },
    {
      "cell_type": "code",
      "source": [
        "model = smf.glm('treat ~ age + educ + black + hispan + married + nodegree + re74 + re75', \n",
        "                data=df, family=sm.families.Binomial(link = sm.genmod.families.links.logit))\n",
        "result = model.fit()\n",
        "result.summary()\n",
        "\n",
        "# add propensity scores \n",
        "df['ps'] =  result.fittedvalues.copy()\n",
        "df"
      ],
      "metadata": {
        "id": "FLfxFEizsAtv",
        "colab": {
          "base_uri": "https://localhost:8080/",
          "height": 479
        },
        "outputId": "935c7f4d-0324-43dd-ff3d-9231179f493a"
      },
      "execution_count": 2,
      "outputs": [
        {
          "output_type": "stream",
          "name": "stderr",
          "text": [
            "<ipython-input-2-2ebf586ab716>:1: DeprecationWarning: Calling Family(..) with a link class as argument is deprecated.\n",
            "Use an instance of a link class instead.\n",
            "  model = smf.glm('treat ~ age + educ + black + hispan + married + nodegree + re74 + re75', data=df, family=sm.families.Binomial(link = sm.genmod.families.links.logit))\n"
          ]
        },
        {
          "output_type": "execute_result",
          "data": {
            "text/plain": [
              "     treat  age  educ  black  hispan  married  nodegree  re74  re75  \\\n",
              "0        1   37    11      1       0        1         1   0.0   0.0   \n",
              "1        1   22     9      0       1        0         1   0.0   0.0   \n",
              "2        1   30    12      1       0        0         0   0.0   0.0   \n",
              "3        1   27    11      1       0        0         1   0.0   0.0   \n",
              "4        1   33     8      1       0        0         1   0.0   0.0   \n",
              "..     ...  ...   ...    ...     ...      ...       ...   ...   ...   \n",
              "609      0   18    11      0       0        0         1   0.0   0.0   \n",
              "610      0   24     1      0       1        1         1   0.0   0.0   \n",
              "611      0   21    18      0       0        0         0   0.0   0.0   \n",
              "612      0   32     5      1       0        1         1   0.0   0.0   \n",
              "613      0   16     9      0       0        0         1   0.0   0.0   \n",
              "\n",
              "           re78        ps  \n",
              "0     9930.0460  0.638770  \n",
              "1     3595.8940  0.224634  \n",
              "2    24909.4500  0.678244  \n",
              "3     7506.1460  0.776324  \n",
              "4      289.7899  0.701639  \n",
              "..          ...       ...  \n",
              "609  10150.5000  0.123144  \n",
              "610  19464.6100  0.034560  \n",
              "611      0.0000  0.183351  \n",
              "612    187.6713  0.383032  \n",
              "613   1495.4590  0.089712  \n",
              "\n",
              "[614 rows x 11 columns]"
            ],
            "text/html": [
              "\n",
              "  <div id=\"df-3255b5c5-8d1f-4f8e-8b64-a8798f63ac5d\">\n",
              "    <div class=\"colab-df-container\">\n",
              "      <div>\n",
              "<style scoped>\n",
              "    .dataframe tbody tr th:only-of-type {\n",
              "        vertical-align: middle;\n",
              "    }\n",
              "\n",
              "    .dataframe tbody tr th {\n",
              "        vertical-align: top;\n",
              "    }\n",
              "\n",
              "    .dataframe thead th {\n",
              "        text-align: right;\n",
              "    }\n",
              "</style>\n",
              "<table border=\"1\" class=\"dataframe\">\n",
              "  <thead>\n",
              "    <tr style=\"text-align: right;\">\n",
              "      <th></th>\n",
              "      <th>treat</th>\n",
              "      <th>age</th>\n",
              "      <th>educ</th>\n",
              "      <th>black</th>\n",
              "      <th>hispan</th>\n",
              "      <th>married</th>\n",
              "      <th>nodegree</th>\n",
              "      <th>re74</th>\n",
              "      <th>re75</th>\n",
              "      <th>re78</th>\n",
              "      <th>ps</th>\n",
              "    </tr>\n",
              "  </thead>\n",
              "  <tbody>\n",
              "    <tr>\n",
              "      <th>0</th>\n",
              "      <td>1</td>\n",
              "      <td>37</td>\n",
              "      <td>11</td>\n",
              "      <td>1</td>\n",
              "      <td>0</td>\n",
              "      <td>1</td>\n",
              "      <td>1</td>\n",
              "      <td>0.0</td>\n",
              "      <td>0.0</td>\n",
              "      <td>9930.0460</td>\n",
              "      <td>0.638770</td>\n",
              "    </tr>\n",
              "    <tr>\n",
              "      <th>1</th>\n",
              "      <td>1</td>\n",
              "      <td>22</td>\n",
              "      <td>9</td>\n",
              "      <td>0</td>\n",
              "      <td>1</td>\n",
              "      <td>0</td>\n",
              "      <td>1</td>\n",
              "      <td>0.0</td>\n",
              "      <td>0.0</td>\n",
              "      <td>3595.8940</td>\n",
              "      <td>0.224634</td>\n",
              "    </tr>\n",
              "    <tr>\n",
              "      <th>2</th>\n",
              "      <td>1</td>\n",
              "      <td>30</td>\n",
              "      <td>12</td>\n",
              "      <td>1</td>\n",
              "      <td>0</td>\n",
              "      <td>0</td>\n",
              "      <td>0</td>\n",
              "      <td>0.0</td>\n",
              "      <td>0.0</td>\n",
              "      <td>24909.4500</td>\n",
              "      <td>0.678244</td>\n",
              "    </tr>\n",
              "    <tr>\n",
              "      <th>3</th>\n",
              "      <td>1</td>\n",
              "      <td>27</td>\n",
              "      <td>11</td>\n",
              "      <td>1</td>\n",
              "      <td>0</td>\n",
              "      <td>0</td>\n",
              "      <td>1</td>\n",
              "      <td>0.0</td>\n",
              "      <td>0.0</td>\n",
              "      <td>7506.1460</td>\n",
              "      <td>0.776324</td>\n",
              "    </tr>\n",
              "    <tr>\n",
              "      <th>4</th>\n",
              "      <td>1</td>\n",
              "      <td>33</td>\n",
              "      <td>8</td>\n",
              "      <td>1</td>\n",
              "      <td>0</td>\n",
              "      <td>0</td>\n",
              "      <td>1</td>\n",
              "      <td>0.0</td>\n",
              "      <td>0.0</td>\n",
              "      <td>289.7899</td>\n",
              "      <td>0.701639</td>\n",
              "    </tr>\n",
              "    <tr>\n",
              "      <th>...</th>\n",
              "      <td>...</td>\n",
              "      <td>...</td>\n",
              "      <td>...</td>\n",
              "      <td>...</td>\n",
              "      <td>...</td>\n",
              "      <td>...</td>\n",
              "      <td>...</td>\n",
              "      <td>...</td>\n",
              "      <td>...</td>\n",
              "      <td>...</td>\n",
              "      <td>...</td>\n",
              "    </tr>\n",
              "    <tr>\n",
              "      <th>609</th>\n",
              "      <td>0</td>\n",
              "      <td>18</td>\n",
              "      <td>11</td>\n",
              "      <td>0</td>\n",
              "      <td>0</td>\n",
              "      <td>0</td>\n",
              "      <td>1</td>\n",
              "      <td>0.0</td>\n",
              "      <td>0.0</td>\n",
              "      <td>10150.5000</td>\n",
              "      <td>0.123144</td>\n",
              "    </tr>\n",
              "    <tr>\n",
              "      <th>610</th>\n",
              "      <td>0</td>\n",
              "      <td>24</td>\n",
              "      <td>1</td>\n",
              "      <td>0</td>\n",
              "      <td>1</td>\n",
              "      <td>1</td>\n",
              "      <td>1</td>\n",
              "      <td>0.0</td>\n",
              "      <td>0.0</td>\n",
              "      <td>19464.6100</td>\n",
              "      <td>0.034560</td>\n",
              "    </tr>\n",
              "    <tr>\n",
              "      <th>611</th>\n",
              "      <td>0</td>\n",
              "      <td>21</td>\n",
              "      <td>18</td>\n",
              "      <td>0</td>\n",
              "      <td>0</td>\n",
              "      <td>0</td>\n",
              "      <td>0</td>\n",
              "      <td>0.0</td>\n",
              "      <td>0.0</td>\n",
              "      <td>0.0000</td>\n",
              "      <td>0.183351</td>\n",
              "    </tr>\n",
              "    <tr>\n",
              "      <th>612</th>\n",
              "      <td>0</td>\n",
              "      <td>32</td>\n",
              "      <td>5</td>\n",
              "      <td>1</td>\n",
              "      <td>0</td>\n",
              "      <td>1</td>\n",
              "      <td>1</td>\n",
              "      <td>0.0</td>\n",
              "      <td>0.0</td>\n",
              "      <td>187.6713</td>\n",
              "      <td>0.383032</td>\n",
              "    </tr>\n",
              "    <tr>\n",
              "      <th>613</th>\n",
              "      <td>0</td>\n",
              "      <td>16</td>\n",
              "      <td>9</td>\n",
              "      <td>0</td>\n",
              "      <td>0</td>\n",
              "      <td>0</td>\n",
              "      <td>1</td>\n",
              "      <td>0.0</td>\n",
              "      <td>0.0</td>\n",
              "      <td>1495.4590</td>\n",
              "      <td>0.089712</td>\n",
              "    </tr>\n",
              "  </tbody>\n",
              "</table>\n",
              "<p>614 rows × 11 columns</p>\n",
              "</div>\n",
              "      <button class=\"colab-df-convert\" onclick=\"convertToInteractive('df-3255b5c5-8d1f-4f8e-8b64-a8798f63ac5d')\"\n",
              "              title=\"Convert this dataframe to an interactive table.\"\n",
              "              style=\"display:none;\">\n",
              "        \n",
              "  <svg xmlns=\"http://www.w3.org/2000/svg\" height=\"24px\"viewBox=\"0 0 24 24\"\n",
              "       width=\"24px\">\n",
              "    <path d=\"M0 0h24v24H0V0z\" fill=\"none\"/>\n",
              "    <path d=\"M18.56 5.44l.94 2.06.94-2.06 2.06-.94-2.06-.94-.94-2.06-.94 2.06-2.06.94zm-11 1L8.5 8.5l.94-2.06 2.06-.94-2.06-.94L8.5 2.5l-.94 2.06-2.06.94zm10 10l.94 2.06.94-2.06 2.06-.94-2.06-.94-.94-2.06-.94 2.06-2.06.94z\"/><path d=\"M17.41 7.96l-1.37-1.37c-.4-.4-.92-.59-1.43-.59-.52 0-1.04.2-1.43.59L10.3 9.45l-7.72 7.72c-.78.78-.78 2.05 0 2.83L4 21.41c.39.39.9.59 1.41.59.51 0 1.02-.2 1.41-.59l7.78-7.78 2.81-2.81c.8-.78.8-2.07 0-2.86zM5.41 20L4 18.59l7.72-7.72 1.47 1.35L5.41 20z\"/>\n",
              "  </svg>\n",
              "      </button>\n",
              "      \n",
              "  <style>\n",
              "    .colab-df-container {\n",
              "      display:flex;\n",
              "      flex-wrap:wrap;\n",
              "      gap: 12px;\n",
              "    }\n",
              "\n",
              "    .colab-df-convert {\n",
              "      background-color: #E8F0FE;\n",
              "      border: none;\n",
              "      border-radius: 50%;\n",
              "      cursor: pointer;\n",
              "      display: none;\n",
              "      fill: #1967D2;\n",
              "      height: 32px;\n",
              "      padding: 0 0 0 0;\n",
              "      width: 32px;\n",
              "    }\n",
              "\n",
              "    .colab-df-convert:hover {\n",
              "      background-color: #E2EBFA;\n",
              "      box-shadow: 0px 1px 2px rgba(60, 64, 67, 0.3), 0px 1px 3px 1px rgba(60, 64, 67, 0.15);\n",
              "      fill: #174EA6;\n",
              "    }\n",
              "\n",
              "    [theme=dark] .colab-df-convert {\n",
              "      background-color: #3B4455;\n",
              "      fill: #D2E3FC;\n",
              "    }\n",
              "\n",
              "    [theme=dark] .colab-df-convert:hover {\n",
              "      background-color: #434B5C;\n",
              "      box-shadow: 0px 1px 3px 1px rgba(0, 0, 0, 0.15);\n",
              "      filter: drop-shadow(0px 1px 2px rgba(0, 0, 0, 0.3));\n",
              "      fill: #FFFFFF;\n",
              "    }\n",
              "  </style>\n",
              "\n",
              "      <script>\n",
              "        const buttonEl =\n",
              "          document.querySelector('#df-3255b5c5-8d1f-4f8e-8b64-a8798f63ac5d button.colab-df-convert');\n",
              "        buttonEl.style.display =\n",
              "          google.colab.kernel.accessAllowed ? 'block' : 'none';\n",
              "\n",
              "        async function convertToInteractive(key) {\n",
              "          const element = document.querySelector('#df-3255b5c5-8d1f-4f8e-8b64-a8798f63ac5d');\n",
              "          const dataTable =\n",
              "            await google.colab.kernel.invokeFunction('convertToInteractive',\n",
              "                                                     [key], {});\n",
              "          if (!dataTable) return;\n",
              "\n",
              "          const docLinkHtml = 'Like what you see? Visit the ' +\n",
              "            '<a target=\"_blank\" href=https://colab.research.google.com/notebooks/data_table.ipynb>data table notebook</a>'\n",
              "            + ' to learn more about interactive tables.';\n",
              "          element.innerHTML = '';\n",
              "          dataTable['output_type'] = 'display_data';\n",
              "          await google.colab.output.renderOutput(dataTable, element);\n",
              "          const docLink = document.createElement('div');\n",
              "          docLink.innerHTML = docLinkHtml;\n",
              "          element.appendChild(docLink);\n",
              "        }\n",
              "      </script>\n",
              "    </div>\n",
              "  </div>\n",
              "  "
            ]
          },
          "metadata": {},
          "execution_count": 2
        }
      ]
    },
    {
      "cell_type": "markdown",
      "source": [
        "#### Check Weighting Quality"
      ],
      "metadata": {
        "id": "fmMju5-tNAIy"
      }
    },
    {
      "cell_type": "code",
      "source": [
        "# explore\n",
        "df.ps.plot( kind='hist', bins=30)\n",
        "df.ps.describe()"
      ],
      "metadata": {
        "id": "56qX5avfsG7j",
        "colab": {
          "base_uri": "https://localhost:8080/",
          "height": 431
        },
        "outputId": "7dbef420-bb6c-43cb-e644-315971b67ee8"
      },
      "execution_count": 3,
      "outputs": [
        {
          "output_type": "execute_result",
          "data": {
            "text/plain": [
              "count    614.000000\n",
              "mean       0.301303\n",
              "std        0.290313\n",
              "min        0.009080\n",
              "25%        0.048536\n",
              "50%        0.120676\n",
              "75%        0.638716\n",
              "max        0.853153\n",
              "Name: ps, dtype: float64"
            ]
          },
          "metadata": {},
          "execution_count": 3
        },
        {
          "output_type": "display_data",
          "data": {
            "text/plain": [
              "<Figure size 432x288 with 1 Axes>"
            ],
            "image/png": "[encoded data removed]"
          },
          "metadata": {
            "needs_background": "light"
          }
        }
      ]
    },
    {
      "cell_type": "code",
      "source": [
        "# assess common support\n",
        "df.boxplot(column='ps', by='treat')"
      ],
      "metadata": {
        "colab": {
          "base_uri": "https://localhost:8080/",
          "height": 376
        },
        "id": "O2Qo1QJmuc8p",
        "outputId": "76275d48-bd8a-49ae-f79f-c62efb788839"
      },
      "execution_count": 18,
      "outputs": [
        {
          "output_type": "stream",
          "name": "stderr",
          "text": [
            "/usr/local/lib/python3.8/dist-packages/matplotlib/cbook/__init__.py:1376: VisibleDeprecationWarning: Creating an ndarray from ragged nested sequences (which is a list-or-tuple of lists-or-tuples-or ndarrays with different lengths or shapes) is deprecated. If you meant to do this, you must specify 'dtype=object' when creating the ndarray.\n",
            "  X = np.atleast_1d(X.T if isinstance(X, np.ndarray) else np.asarray(X))\n"
          ]
        },
        {
          "output_type": "execute_result",
          "data": {
            "text/plain": [
              "<matplotlib.axes._subplots.AxesSubplot at 0x7f630989ec40>"
            ]
          },
          "metadata": {},
          "execution_count": 18
        },
        {
          "output_type": "display_data",
          "data": {
            "text/plain": [
              "<Figure size 432x288 with 1 Axes>"
            ],
            "image/png": "[encoded data removed]"
          },
          "metadata": {
            "needs_background": "light"
          }
        }
      ]
    },
    {
      "cell_type": "code",
      "source": [
        "# calculate propensity score weights for ATT (Austin, 2011) and ATE\n",
        "#df['wt'] = np.where(df['treat']==1, 1,df.ps/(1-df.ps))\n",
        "df['wt_ATE'] = np.where(df['treat']==1, 1/df.ps,1/(1-df.ps))\n",
        "df['wt_ATT'] = np.where(df['treat']==1, 1,df.ps/(1-df.ps))\n",
        "\n",
        "df.wt_ATT.describe() # check\n",
        "df.wt_ATE.describe() # check"
      ],
      "metadata": {
        "colab": {
          "base_uri": "https://localhost:8080/"
        },
        "id": "B62A9H-9u_Mc",
        "outputId": "d6859894-9890-45f3-d2a6-e65518bcd78b"
      },
      "execution_count": 5,
      "outputs": [
        {
          "output_type": "execute_result",
          "data": {
            "text/plain": [
              "count    614.000000\n",
              "mean       1.904940\n",
              "std        2.611408\n",
              "min        1.009163\n",
              "25%        1.051588\n",
              "50%        1.169745\n",
              "75%        1.623320\n",
              "max       40.077294\n",
              "Name: wt_ATE, dtype: float64"
            ]
          },
          "metadata": {},
          "execution_count": 5
        }
      ]
    },
    {
      "cell_type": "code",
      "source": [
        "# split data and use numpy to deal with pandas issues elated to using group by with means on integer 0/1 values\n",
        "trt = df[df['treat'].isin([1])]  \n",
        "ctrl =df[df['treat'].isin([0])] "
      ],
      "metadata": {
        "id": "Z9E3qkwwOfx9"
      },
      "execution_count": 6,
      "outputs": []
    },
    {
      "cell_type": "code",
      "source": [
        "col_name_uw=['Unweighted','treat','ctrl']\n",
        "df_temp=[['Whether Black',np.average(trt.black),np.average(ctrl.black)],\n",
        "         ['Re74',np.average(trt.re74),np.average(ctrl.re74)],\n",
        "         ['Age',np.average(trt.age),np.average(ctrl.age)]]\n",
        "df_uw=pd.DataFrame(df_temp,columns=col_name_uw)\n",
        "df_uw"
      ],
      "metadata": {
        "colab": {
          "base_uri": "https://localhost:8080/",
          "height": 143
        },
        "id": "bIs4TATnOu0c",
        "outputId": "3cca1803-5a36-411c-a4c2-3e281eb9e079"
      },
      "execution_count": 7,
      "outputs": [
        {
          "output_type": "execute_result",
          "data": {
            "text/plain": [
              "      Unweighted        treat         ctrl\n",
              "0  Whether Black     0.843243     0.202797\n",
              "1           Re74  2095.573689  5619.236506\n",
              "2            Age    25.816216    28.030303"
            ],
            "text/html": [
              "\n",
              "  <div id=\"df-da731372-1ab3-48fc-8dac-67687b394a09\">\n",
              "    <div class=\"colab-df-container\">\n",
              "      <div>\n",
              "<style scoped>\n",
              "    .dataframe tbody tr th:only-of-type {\n",
              "        vertical-align: middle;\n",
              "    }\n",
              "\n",
              "    .dataframe tbody tr th {\n",
              "        vertical-align: top;\n",
              "    }\n",
              "\n",
              "    .dataframe thead th {\n",
              "        text-align: right;\n",
              "    }\n",
              "</style>\n",
              "<table border=\"1\" class=\"dataframe\">\n",
              "  <thead>\n",
              "    <tr style=\"text-align: right;\">\n",
              "      <th></th>\n",
              "      <th>Unweighted</th>\n",
              "      <th>treat</th>\n",
              "      <th>ctrl</th>\n",
              "    </tr>\n",
              "  </thead>\n",
              "  <tbody>\n",
              "    <tr>\n",
              "      <th>0</th>\n",
              "      <td>Whether Black</td>\n",
              "      <td>0.843243</td>\n",
              "      <td>0.202797</td>\n",
              "    </tr>\n",
              "    <tr>\n",
              "      <th>1</th>\n",
              "      <td>Re74</td>\n",
              "      <td>2095.573689</td>\n",
              "      <td>5619.236506</td>\n",
              "    </tr>\n",
              "    <tr>\n",
              "      <th>2</th>\n",
              "      <td>Age</td>\n",
              "      <td>25.816216</td>\n",
              "      <td>28.030303</td>\n",
              "    </tr>\n",
              "  </tbody>\n",
              "</table>\n",
              "</div>\n",
              "      <button class=\"colab-df-convert\" onclick=\"convertToInteractive('df-da731372-1ab3-48fc-8dac-67687b394a09')\"\n",
              "              title=\"Convert this dataframe to an interactive table.\"\n",
              "              style=\"display:none;\">\n",
              "        \n",
              "  <svg xmlns=\"http://www.w3.org/2000/svg\" height=\"24px\"viewBox=\"0 0 24 24\"\n",
              "       width=\"24px\">\n",
              "    <path d=\"M0 0h24v24H0V0z\" fill=\"none\"/>\n",
              "    <path d=\"M18.56 5.44l.94 2.06.94-2.06 2.06-.94-2.06-.94-.94-2.06-.94 2.06-2.06.94zm-11 1L8.5 8.5l.94-2.06 2.06-.94-2.06-.94L8.5 2.5l-.94 2.06-2.06.94zm10 10l.94 2.06.94-2.06 2.06-.94-2.06-.94-.94-2.06-.94 2.06-2.06.94z\"/><path d=\"M17.41 7.96l-1.37-1.37c-.4-.4-.92-.59-1.43-.59-.52 0-1.04.2-1.43.59L10.3 9.45l-7.72 7.72c-.78.78-.78 2.05 0 2.83L4 21.41c.39.39.9.59 1.41.59.51 0 1.02-.2 1.41-.59l7.78-7.78 2.81-2.81c.8-.78.8-2.07 0-2.86zM5.41 20L4 18.59l7.72-7.72 1.47 1.35L5.41 20z\"/>\n",
              "  </svg>\n",
              "      </button>\n",
              "      \n",
              "  <style>\n",
              "    .colab-df-container {\n",
              "      display:flex;\n",
              "      flex-wrap:wrap;\n",
              "      gap: 12px;\n",
              "    }\n",
              "\n",
              "    .colab-df-convert {\n",
              "      background-color: #E8F0FE;\n",
              "      border: none;\n",
              "      border-radius: 50%;\n",
              "      cursor: pointer;\n",
              "      display: none;\n",
              "      fill: #1967D2;\n",
              "      height: 32px;\n",
              "      padding: 0 0 0 0;\n",
              "      width: 32px;\n",
              "    }\n",
              "\n",
              "    .colab-df-convert:hover {\n",
              "      background-color: #E2EBFA;\n",
              "      box-shadow: 0px 1px 2px rgba(60, 64, 67, 0.3), 0px 1px 3px 1px rgba(60, 64, 67, 0.15);\n",
              "      fill: #174EA6;\n",
              "    }\n",
              "\n",
              "    [theme=dark] .colab-df-convert {\n",
              "      background-color: #3B4455;\n",
              "      fill: #D2E3FC;\n",
              "    }\n",
              "\n",
              "    [theme=dark] .colab-df-convert:hover {\n",
              "      background-color: #434B5C;\n",
              "      box-shadow: 0px 1px 3px 1px rgba(0, 0, 0, 0.15);\n",
              "      filter: drop-shadow(0px 1px 2px rgba(0, 0, 0, 0.3));\n",
              "      fill: #FFFFFF;\n",
              "    }\n",
              "  </style>\n",
              "\n",
              "      <script>\n",
              "        const buttonEl =\n",
              "          document.querySelector('#df-da731372-1ab3-48fc-8dac-67687b394a09 button.colab-df-convert');\n",
              "        buttonEl.style.display =\n",
              "          google.colab.kernel.accessAllowed ? 'block' : 'none';\n",
              "\n",
              "        async function convertToInteractive(key) {\n",
              "          const element = document.querySelector('#df-da731372-1ab3-48fc-8dac-67687b394a09');\n",
              "          const dataTable =\n",
              "            await google.colab.kernel.invokeFunction('convertToInteractive',\n",
              "                                                     [key], {});\n",
              "          if (!dataTable) return;\n",
              "\n",
              "          const docLinkHtml = 'Like what you see? Visit the ' +\n",
              "            '<a target=\"_blank\" href=https://colab.research.google.com/notebooks/data_table.ipynb>data table notebook</a>'\n",
              "            + ' to learn more about interactive tables.';\n",
              "          element.innerHTML = '';\n",
              "          dataTable['output_type'] = 'display_data';\n",
              "          await google.colab.output.renderOutput(dataTable, element);\n",
              "          const docLink = document.createElement('div');\n",
              "          docLink.innerHTML = docLinkHtml;\n",
              "          element.appendChild(docLink);\n",
              "        }\n",
              "      </script>\n",
              "    </div>\n",
              "  </div>\n",
              "  "
            ]
          },
          "metadata": {},
          "execution_count": 7
        }
      ]
    },
    {
      "cell_type": "code",
      "source": [
        "col_name_w=['Weighted','treat','ctrl']\n",
        "df_temp=[['Whether Black',np.average(trt.black, weights =  trt.wt_ATT),np.average(ctrl.black, weights =  ctrl.wt_ATT)],\n",
        "         ['Re74',np.average(trt.re74, weights =  trt.wt_ATT),np.average(ctrl.re74, weights =  ctrl.wt_ATT)],\n",
        "         ['Age',np.average(trt.age, weights =  trt.wt_ATT),np.average(ctrl.age, weights =  ctrl.wt_ATT)]]\n",
        "df_w=pd.DataFrame(df_temp,columns=col_name_w)\n",
        "df_w"
      ],
      "metadata": {
        "colab": {
          "base_uri": "https://localhost:8080/",
          "height": 143
        },
        "id": "RPmr1Q_BQFWw",
        "outputId": "0287b6f2-ccdb-4e13-f4cc-6e7bef5f171b"
      },
      "execution_count": 19,
      "outputs": [
        {
          "output_type": "execute_result",
          "data": {
            "text/plain": [
              "        Weighted        treat         ctrl\n",
              "0  Whether Black     0.843243     0.845480\n",
              "1           Re74  2095.573689  2106.044819\n",
              "2            Age    25.816216    24.965845"
            ],
            "text/html": [
              "\n",
              "  <div id=\"df-daab7d90-d326-40c2-9899-8e4f9c7e0edc\">\n",
              "    <div class=\"colab-df-container\">\n",
              "      <div>\n",
              "<style scoped>\n",
              "    .dataframe tbody tr th:only-of-type {\n",
              "        vertical-align: middle;\n",
              "    }\n",
              "\n",
              "    .dataframe tbody tr th {\n",
              "        vertical-align: top;\n",
              "    }\n",
              "\n",
              "    .dataframe thead th {\n",
              "        text-align: right;\n",
              "    }\n",
              "</style>\n",
              "<table border=\"1\" class=\"dataframe\">\n",
              "  <thead>\n",
              "    <tr style=\"text-align: right;\">\n",
              "      <th></th>\n",
              "      <th>Weighted</th>\n",
              "      <th>treat</th>\n",
              "      <th>ctrl</th>\n",
              "    </tr>\n",
              "  </thead>\n",
              "  <tbody>\n",
              "    <tr>\n",
              "      <th>0</th>\n",
              "      <td>Whether Black</td>\n",
              "      <td>0.843243</td>\n",
              "      <td>0.845480</td>\n",
              "    </tr>\n",
              "    <tr>\n",
              "      <th>1</th>\n",
              "      <td>Re74</td>\n",
              "      <td>2095.573689</td>\n",
              "      <td>2106.044819</td>\n",
              "    </tr>\n",
              "    <tr>\n",
              "      <th>2</th>\n",
              "      <td>Age</td>\n",
              "      <td>25.816216</td>\n",
              "      <td>24.965845</td>\n",
              "    </tr>\n",
              "  </tbody>\n",
              "</table>\n",
              "</div>\n",
              "      <button class=\"colab-df-convert\" onclick=\"convertToInteractive('df-daab7d90-d326-40c2-9899-8e4f9c7e0edc')\"\n",
              "              title=\"Convert this dataframe to an interactive table.\"\n",
              "              style=\"display:none;\">\n",
              "        \n",
              "  <svg xmlns=\"http://www.w3.org/2000/svg\" height=\"24px\"viewBox=\"0 0 24 24\"\n",
              "       width=\"24px\">\n",
              "    <path d=\"M0 0h24v24H0V0z\" fill=\"none\"/>\n",
              "    <path d=\"M18.56 5.44l.94 2.06.94-2.06 2.06-.94-2.06-.94-.94-2.06-.94 2.06-2.06.94zm-11 1L8.5 8.5l.94-2.06 2.06-.94-2.06-.94L8.5 2.5l-.94 2.06-2.06.94zm10 10l.94 2.06.94-2.06 2.06-.94-2.06-.94-.94-2.06-.94 2.06-2.06.94z\"/><path d=\"M17.41 7.96l-1.37-1.37c-.4-.4-.92-.59-1.43-.59-.52 0-1.04.2-1.43.59L10.3 9.45l-7.72 7.72c-.78.78-.78 2.05 0 2.83L4 21.41c.39.39.9.59 1.41.59.51 0 1.02-.2 1.41-.59l7.78-7.78 2.81-2.81c.8-.78.8-2.07 0-2.86zM5.41 20L4 18.59l7.72-7.72 1.47 1.35L5.41 20z\"/>\n",
              "  </svg>\n",
              "      </button>\n",
              "      \n",
              "  <style>\n",
              "    .colab-df-container {\n",
              "      display:flex;\n",
              "      flex-wrap:wrap;\n",
              "      gap: 12px;\n",
              "    }\n",
              "\n",
              "    .colab-df-convert {\n",
              "      background-color: #E8F0FE;\n",
              "      border: none;\n",
              "      border-radius: 50%;\n",
              "      cursor: pointer;\n",
              "      display: none;\n",
              "      fill: #1967D2;\n",
              "      height: 32px;\n",
              "      padding: 0 0 0 0;\n",
              "      width: 32px;\n",
              "    }\n",
              "\n",
              "    .colab-df-convert:hover {\n",
              "      background-color: #E2EBFA;\n",
              "      box-shadow: 0px 1px 2px rgba(60, 64, 67, 0.3), 0px 1px 3px 1px rgba(60, 64, 67, 0.15);\n",
              "      fill: #174EA6;\n",
              "    }\n",
              "\n",
              "    [theme=dark] .colab-df-convert {\n",
              "      background-color: #3B4455;\n",
              "      fill: #D2E3FC;\n",
              "    }\n",
              "\n",
              "    [theme=dark] .colab-df-convert:hover {\n",
              "      background-color: #434B5C;\n",
              "      box-shadow: 0px 1px 3px 1px rgba(0, 0, 0, 0.15);\n",
              "      filter: drop-shadow(0px 1px 2px rgba(0, 0, 0, 0.3));\n",
              "      fill: #FFFFFF;\n",
              "    }\n",
              "  </style>\n",
              "\n",
              "      <script>\n",
              "        const buttonEl =\n",
              "          document.querySelector('#df-daab7d90-d326-40c2-9899-8e4f9c7e0edc button.colab-df-convert');\n",
              "        buttonEl.style.display =\n",
              "          google.colab.kernel.accessAllowed ? 'block' : 'none';\n",
              "\n",
              "        async function convertToInteractive(key) {\n",
              "          const element = document.querySelector('#df-daab7d90-d326-40c2-9899-8e4f9c7e0edc');\n",
              "          const dataTable =\n",
              "            await google.colab.kernel.invokeFunction('convertToInteractive',\n",
              "                                                     [key], {});\n",
              "          if (!dataTable) return;\n",
              "\n",
              "          const docLinkHtml = 'Like what you see? Visit the ' +\n",
              "            '<a target=\"_blank\" href=https://colab.research.google.com/notebooks/data_table.ipynb>data table notebook</a>'\n",
              "            + ' to learn more about interactive tables.';\n",
              "          element.innerHTML = '';\n",
              "          dataTable['output_type'] = 'display_data';\n",
              "          await google.colab.output.renderOutput(dataTable, element);\n",
              "          const docLink = document.createElement('div');\n",
              "          docLink.innerHTML = docLinkHtml;\n",
              "          element.appendChild(docLink);\n",
              "        }\n",
              "      </script>\n",
              "    </div>\n",
              "  </div>\n",
              "  "
            ]
          },
          "metadata": {},
          "execution_count": 19
        }
      ]
    },
    {
      "cell_type": "markdown",
      "source": [
        "#### Estimation of treatment effects"
      ],
      "metadata": {
        "id": "Gn6IDvVXSDTi"
      }
    },
    {
      "cell_type": "markdown",
      "source": [
        "##### unweighted comparisons"
      ],
      "metadata": {
        "id": "qG7pfxdnThJH"
      }
    },
    {
      "cell_type": "code",
      "source": [
        "# regression using smf\n",
        "lmresults = smf.ols('re78 ~ treat', data=df).fit()\n",
        "\n",
        "# inspect results\n",
        "lmresults.summary()  # b_est = -635"
      ],
      "metadata": {
        "colab": {
          "base_uri": "https://localhost:8080/",
          "height": 434
        },
        "id": "TnMhpVASxJiY",
        "outputId": "381153a3-abec-44bc-95d5-056702c1212b"
      },
      "execution_count": 9,
      "outputs": [
        {
          "output_type": "execute_result",
          "data": {
            "text/plain": [
              "<class 'statsmodels.iolib.summary.Summary'>\n",
              "\"\"\"\n",
              "                            OLS Regression Results                            \n",
              "==============================================================================\n",
              "Dep. Variable:                   re78   R-squared:                       0.002\n",
              "Model:                            OLS   Adj. R-squared:                 -0.000\n",
              "Method:                 Least Squares   F-statistic:                    0.9338\n",
              "Date:                Tue, 03 Jan 2023   Prob (F-statistic):              0.334\n",
              "Time:                        20:31:19   Log-Likelihood:                -6346.4\n",
              "No. Observations:                 614   AIC:                         1.270e+04\n",
              "Df Residuals:                     612   BIC:                         1.271e+04\n",
              "Df Model:                           1                                         \n",
              "Covariance Type:            nonrobust                                         \n",
              "==============================================================================\n",
              "                 coef    std err          t      P>|t|      [0.025      0.975]\n",
              "------------------------------------------------------------------------------\n",
              "Intercept   6984.1697    360.710     19.362      0.000    6275.791    7692.549\n",
              "treat       -635.0262    657.137     -0.966      0.334   -1925.544     655.492\n",
              "==============================================================================\n",
              "Omnibus:                      209.619   Durbin-Watson:                   1.809\n",
              "Prob(Omnibus):                  0.000   Jarque-Bera (JB):              775.567\n",
              "Skew:                           1.567   Prob(JB):                    3.87e-169\n",
              "Kurtosis:                       7.527   Cond. No.                         2.42\n",
              "==============================================================================\n",
              "\n",
              "Notes:\n",
              "[1] Standard Errors assume that the covariance matrix of the errors is correctly specified.\n",
              "\"\"\""
            ],
            "text/html": [
              "<table class=\"simpletable\">\n",
              "<caption>OLS Regression Results</caption>\n",
              "<tr>\n",
              "  <th>Dep. Variable:</th>          <td>re78</td>       <th>  R-squared:         </th> <td>   0.002</td> \n",
              "</tr>\n",
              "<tr>\n",
              "  <th>Model:</th>                   <td>OLS</td>       <th>  Adj. R-squared:    </th> <td>  -0.000</td> \n",
              "</tr>\n",
              "<tr>\n",
              "  <th>Method:</th>             <td>Least Squares</td>  <th>  F-statistic:       </th> <td>  0.9338</td> \n",
              "</tr>\n",
              "<tr>\n",
              "  <th>Date:</th>             <td>Tue, 03 Jan 2023</td> <th>  Prob (F-statistic):</th>  <td> 0.334</td>  \n",
              "</tr>\n",
              "<tr>\n",
              "  <th>Time:</th>                 <td>20:31:19</td>     <th>  Log-Likelihood:    </th> <td> -6346.4</td> \n",
              "</tr>\n",
              "<tr>\n",
              "  <th>No. Observations:</th>      <td>   614</td>      <th>  AIC:               </th> <td>1.270e+04</td>\n",
              "</tr>\n",
              "<tr>\n",
              "  <th>Df Residuals:</th>          <td>   612</td>      <th>  BIC:               </th> <td>1.271e+04</td>\n",
              "</tr>\n",
              "<tr>\n",
              "  <th>Df Model:</th>              <td>     1</td>      <th>                     </th>     <td> </td>    \n",
              "</tr>\n",
              "<tr>\n",
              "  <th>Covariance Type:</th>      <td>nonrobust</td>    <th>                     </th>     <td> </td>    \n",
              "</tr>\n",
              "</table>\n",
              "<table class=\"simpletable\">\n",
              "<tr>\n",
              "      <td></td>         <th>coef</th>     <th>std err</th>      <th>t</th>      <th>P>|t|</th>  <th>[0.025</th>    <th>0.975]</th>  \n",
              "</tr>\n",
              "<tr>\n",
              "  <th>Intercept</th> <td> 6984.1697</td> <td>  360.710</td> <td>   19.362</td> <td> 0.000</td> <td> 6275.791</td> <td> 7692.549</td>\n",
              "</tr>\n",
              "<tr>\n",
              "  <th>treat</th>     <td> -635.0262</td> <td>  657.137</td> <td>   -0.966</td> <td> 0.334</td> <td>-1925.544</td> <td>  655.492</td>\n",
              "</tr>\n",
              "</table>\n",
              "<table class=\"simpletable\">\n",
              "<tr>\n",
              "  <th>Omnibus:</th>       <td>209.619</td> <th>  Durbin-Watson:     </th> <td>   1.809</td> \n",
              "</tr>\n",
              "<tr>\n",
              "  <th>Prob(Omnibus):</th> <td> 0.000</td>  <th>  Jarque-Bera (JB):  </th> <td> 775.567</td> \n",
              "</tr>\n",
              "<tr>\n",
              "  <th>Skew:</th>          <td> 1.567</td>  <th>  Prob(JB):          </th> <td>3.87e-169</td>\n",
              "</tr>\n",
              "<tr>\n",
              "  <th>Kurtosis:</th>      <td> 7.527</td>  <th>  Cond. No.          </th> <td>    2.42</td> \n",
              "</tr>\n",
              "</table><br/><br/>Notes:<br/>[1] Standard Errors assume that the covariance matrix of the errors is correctly specified."
            ]
          },
          "metadata": {},
          "execution_count": 9
        }
      ]
    },
    {
      "cell_type": "markdown",
      "source": [
        "##### weighted comparisons using mean"
      ],
      "metadata": {
        "id": "__pWZ7QrTops"
      }
    },
    {
      "cell_type": "code",
      "source": [
        "# weighted differences in outcome\n",
        "print(np.average(trt.re78, weights =  trt.wt_ATT))\n",
        "print(np.average(ctrl.re78, weights = ctrl.wt_ATT))"
      ],
      "metadata": {
        "colab": {
          "base_uri": "https://localhost:8080/"
        },
        "id": "CoYVj9JjxKFU",
        "outputId": "2633b5fc-9081-42cd-e185-96ec2105d7ba"
      },
      "execution_count": 10,
      "outputs": [
        {
          "output_type": "stream",
          "name": "stdout",
          "text": [
            "6349.143530270271\n",
            "5135.0723069774185\n"
          ]
        }
      ]
    },
    {
      "cell_type": "markdown",
      "source": [
        "##### weighted comparisons using regression pkg"
      ],
      "metadata": {
        "id": "jL70SnG3Txmp"
      }
    },
    {
      "cell_type": "code",
      "execution_count": 11,
      "metadata": {
        "id": "T2otr9Smrmg9",
        "colab": {
          "base_uri": "https://localhost:8080/",
          "height": 434
        },
        "outputId": "7ed4b438-e154-43f9-ac31-9d8b6d8e24c2"
      },
      "outputs": [
        {
          "output_type": "execute_result",
          "data": {
            "text/plain": [
              "<class 'statsmodels.iolib.summary.Summary'>\n",
              "\"\"\"\n",
              "                            WLS Regression Results                            \n",
              "==============================================================================\n",
              "Dep. Variable:                   re78   R-squared:                       0.007\n",
              "Model:                            WLS   Adj. R-squared:                  0.006\n",
              "Method:                 Least Squares   F-statistic:                     4.554\n",
              "Date:                Tue, 03 Jan 2023   Prob (F-statistic):             0.0332\n",
              "Time:                        20:31:19   Log-Likelihood:                -6617.9\n",
              "No. Observations:                 614   AIC:                         1.324e+04\n",
              "Df Residuals:                     612   BIC:                         1.325e+04\n",
              "Df Model:                           1                                         \n",
              "Covariance Type:            nonrobust                                         \n",
              "==============================================================================\n",
              "                 coef    std err          t      P>|t|      [0.025      0.975]\n",
              "------------------------------------------------------------------------------\n",
              "Intercept   5135.0723    401.194     12.799      0.000    4347.189    5922.956\n",
              "treat       1214.0712    568.904      2.134      0.033      96.830    2331.312\n",
              "==============================================================================\n",
              "Omnibus:                      433.793   Durbin-Watson:                   1.998\n",
              "Prob(Omnibus):                  0.000   Jarque-Bera (JB):             9596.350\n",
              "Skew:                           2.826   Prob(JB):                         0.00\n",
              "Kurtosis:                      21.524   Cond. No.                         2.61\n",
              "==============================================================================\n",
              "\n",
              "Notes:\n",
              "[1] Standard Errors assume that the covariance matrix of the errors is correctly specified.\n",
              "\"\"\""
            ],
            "text/html": [
              "<table class=\"simpletable\">\n",
              "<caption>WLS Regression Results</caption>\n",
              "<tr>\n",
              "  <th>Dep. Variable:</th>          <td>re78</td>       <th>  R-squared:         </th> <td>   0.007</td> \n",
              "</tr>\n",
              "<tr>\n",
              "  <th>Model:</th>                   <td>WLS</td>       <th>  Adj. R-squared:    </th> <td>   0.006</td> \n",
              "</tr>\n",
              "<tr>\n",
              "  <th>Method:</th>             <td>Least Squares</td>  <th>  F-statistic:       </th> <td>   4.554</td> \n",
              "</tr>\n",
              "<tr>\n",
              "  <th>Date:</th>             <td>Tue, 03 Jan 2023</td> <th>  Prob (F-statistic):</th>  <td>0.0332</td>  \n",
              "</tr>\n",
              "<tr>\n",
              "  <th>Time:</th>                 <td>20:31:19</td>     <th>  Log-Likelihood:    </th> <td> -6617.9</td> \n",
              "</tr>\n",
              "<tr>\n",
              "  <th>No. Observations:</th>      <td>   614</td>      <th>  AIC:               </th> <td>1.324e+04</td>\n",
              "</tr>\n",
              "<tr>\n",
              "  <th>Df Residuals:</th>          <td>   612</td>      <th>  BIC:               </th> <td>1.325e+04</td>\n",
              "</tr>\n",
              "<tr>\n",
              "  <th>Df Model:</th>              <td>     1</td>      <th>                     </th>     <td> </td>    \n",
              "</tr>\n",
              "<tr>\n",
              "  <th>Covariance Type:</th>      <td>nonrobust</td>    <th>                     </th>     <td> </td>    \n",
              "</tr>\n",
              "</table>\n",
              "<table class=\"simpletable\">\n",
              "<tr>\n",
              "      <td></td>         <th>coef</th>     <th>std err</th>      <th>t</th>      <th>P>|t|</th>  <th>[0.025</th>    <th>0.975]</th>  \n",
              "</tr>\n",
              "<tr>\n",
              "  <th>Intercept</th> <td> 5135.0723</td> <td>  401.194</td> <td>   12.799</td> <td> 0.000</td> <td> 4347.189</td> <td> 5922.956</td>\n",
              "</tr>\n",
              "<tr>\n",
              "  <th>treat</th>     <td> 1214.0712</td> <td>  568.904</td> <td>    2.134</td> <td> 0.033</td> <td>   96.830</td> <td> 2331.312</td>\n",
              "</tr>\n",
              "</table>\n",
              "<table class=\"simpletable\">\n",
              "<tr>\n",
              "  <th>Omnibus:</th>       <td>433.793</td> <th>  Durbin-Watson:     </th> <td>   1.998</td>\n",
              "</tr>\n",
              "<tr>\n",
              "  <th>Prob(Omnibus):</th> <td> 0.000</td>  <th>  Jarque-Bera (JB):  </th> <td>9596.350</td>\n",
              "</tr>\n",
              "<tr>\n",
              "  <th>Skew:</th>          <td> 2.826</td>  <th>  Prob(JB):          </th> <td>    0.00</td>\n",
              "</tr>\n",
              "<tr>\n",
              "  <th>Kurtosis:</th>      <td>21.524</td>  <th>  Cond. No.          </th> <td>    2.61</td>\n",
              "</tr>\n",
              "</table><br/><br/>Notes:<br/>[1] Standard Errors assume that the covariance matrix of the errors is correctly specified."
            ]
          },
          "metadata": {},
          "execution_count": 11
        }
      ],
      "source": [
        "### weighted comparisons\n",
        "\n",
        "# iptw regression\n",
        "iptwResults = smf.wls('re78 ~ treat', data=df, weights = df.wt_ATT).fit()\n",
        "iptwResults.summary() # b_est =  1214\n",
        "\n",
        "# this result if very similar to the result using R Matchit \n",
        "# see: https://gist.github.com/BioSciEconomist/6e8b3fba57d00761527215128bdbf11a "
      ]
    },
    {
      "cell_type": "markdown",
      "source": [
        "##### weighted comparisons from scratch"
      ],
      "metadata": {
        "id": "63GeGslvT2RX"
      }
    },
    {
      "cell_type": "code",
      "source": [
        "# Prepare matrices\n",
        "y=df['re78'].values\n",
        "df['cons']=1\n",
        "x=df[['treat','cons']].values\n",
        "w=np.diag(df['wt_ATT'].values)"
      ],
      "metadata": {
        "id": "w0PEmPNYIH41"
      },
      "execution_count": 12,
      "outputs": []
    },
    {
      "cell_type": "code",
      "source": [
        "# get point estimate\n",
        "# see here for the formula: https://ms.mcmaster.ca/canty/teaching/stat3a03/Lectures7.pdf\n",
        "beta=np.matmul(np.linalg.inv(np.matmul(np.matmul(x.T,w),x)),np.matmul(np.matmul(x.T,w),y))\n",
        "beta"
      ],
      "metadata": {
        "colab": {
          "base_uri": "https://localhost:8080/"
        },
        "id": "7tV27P0uJsw2",
        "outputId": "73a4e859-3042-4ab9-b63d-aa4f0247d171"
      },
      "execution_count": 13,
      "outputs": [
        {
          "output_type": "execute_result",
          "data": {
            "text/plain": [
              "array([1214.07122329, 5135.07230698])"
            ]
          },
          "metadata": {},
          "execution_count": 13
        }
      ]
    },
    {
      "cell_type": "code",
      "source": [
        "# prepare to calculate Standard Errors\n",
        "# see here for the formula: https://stats.stackexchange.com/questions/283764/standard-errors-with-weighted-least-squares-regression\n",
        "df['y_hat']=np.dot(x,beta.reshape(-1,1)).copy()\n",
        "df['resid']=df['re78']-df['y_hat']\n",
        "df['resid_2']=df['resid']*df['resid']"
      ],
      "metadata": {
        "id": "RiwsiP_GbbDX"
      },
      "execution_count": 14,
      "outputs": []
    },
    {
      "cell_type": "code",
      "source": [
        "SE=np.sqrt((np.sqrt(sum(df['wt_ATT']*df['resid_2'])/(len(df)-2)))**2*np.linalg.inv(np.matmul(np.matmul(x.T,w),x)).diagonal())\n",
        "SE # matches the WLS result above"
      ],
      "metadata": {
        "colab": {
          "base_uri": "https://localhost:8080/"
        },
        "id": "sJDHTMQtccKK",
        "outputId": "717c0ba9-880d-44a3-ffba-300aef472aaf"
      },
      "execution_count": 15,
      "outputs": [
        {
          "output_type": "execute_result",
          "data": {
            "text/plain": [
              "array([568.90402258, 401.19365903])"
            ]
          },
          "metadata": {},
          "execution_count": 15
        }
      ]
    },
    {
      "cell_type": "code",
      "source": [
        "# calcualte t-statistics\n",
        "1214.0712/568.904"
      ],
      "metadata": {
        "colab": {
          "base_uri": "https://localhost:8080/"
        },
        "id": "xxJuFsK8eK5c",
        "outputId": "25636d13-78bb-412a-e8ae-110e3729de2e"
      },
      "execution_count": 16,
      "outputs": [
        {
          "output_type": "execute_result",
          "data": {
            "text/plain": [
              "2.134052845471292"
            ]
          },
          "metadata": {},
          "execution_count": 16
        }
      ]
    },
    {
      "cell_type": "code",
      "source": [
        "# calculate P value\n",
        "2*(1 - t.cdf(abs(2.134052845471292), len(df)-2)) "
      ],
      "metadata": {
        "colab": {
          "base_uri": "https://localhost:8080/"
        },
        "id": "RE8brGclix56",
        "outputId": "b09449e1-a062-45e0-be80-5a0532fe02d4"
      },
      "execution_count": 17,
      "outputs": [
        {
          "output_type": "execute_result",
          "data": {
            "text/plain": [
              "0.03323530034399158"
            ]
          },
          "metadata": {},
          "execution_count": 17
        }
      ]
    }
  ]
}