{
  "nbformat": 4,
  "nbformat_minor": 0,
  "metadata": {
    "colab": {
      "provenance": []
    },
    "kernelspec": {
      "name": "python3",
      "display_name": "Python 3"
    },
    "language_info": {
      "name": "python"
    }
  },
  "cells": [
    {
      "cell_type": "code",
      "execution_count": 1,
      "metadata": {
        "colab": {
          "base_uri": "https://localhost:8080/"
        },
        "id": "-fTHgUec2DF4",
        "outputId": "a0fbad21-9650-473d-a7b1-be155a9ea610"
      },
      "outputs": [
        {
          "output_type": "stream",
          "name": "stdout",
          "text": [
            "\n",
            "Updated VIF Values:\n",
            "   Variable   VIF\n",
            "0       X1  6.86\n",
            "1       X2  6.94\n",
            "2       X3  5.74\n",
            "3       X4  5.78\n"
          ]
        }
      ],
      "source": [
        "import numpy as np\n",
        "import pandas as pd\n",
        "from statsmodels.stats.outliers_influence import variance_inflation_factor\n",
        "n_samples = 100\n",
        "# Updated correlation matrix with weaker within-group correlations\n",
        "corr_matrix_updated = np.array([\n",
        "    [1.00, 0.91, 0.15, 0.15],\n",
        "    [0.91, 1.00, 0.15, 0.15],\n",
        "    [0.15, 0.15, 1.00, 0.92],\n",
        "    [0.15, 0.15, 0.92, 1.00],\n",
        "])\n",
        "\n",
        "mean = np.zeros(4)\n",
        "# Regenerate data\n",
        "data_updated = np.random.multivariate_normal(mean, corr_matrix_updated, n_samples)\n",
        "df_updated = pd.DataFrame(data_updated, columns=[\"X1\", \"X2\", \"X3\", \"X4\"])\n",
        "\n",
        "# Recalculate VIFs\n",
        "vif_data_updated = pd.DataFrame()\n",
        "vif_data_updated[\"Variable\"] = df_updated.columns\n",
        "vif_data_updated[\"VIF\"] = [\n",
        "    variance_inflation_factor(df_updated.values, i) for i in range(df_updated.shape[1])\n",
        "]\n",
        "print(\"\\nUpdated VIF Values:\\n\", vif_data_updated.round(2))"
      ]
    },
    {
      "cell_type": "code",
      "source": [
        "import numpy as np\n",
        "import pandas as pd\n",
        "from statsmodels.stats.outliers_influence import variance_inflation_factor\n",
        "\n",
        "np.random.seed(42)\n",
        "\n",
        "# Generate X1 and X2 (independent)\n",
        "X1 = np.random.normal(0, 1, 1000)\n",
        "X2 = np.random.normal(0, 1, 1000)\n",
        "\n",
        "# X3 is a linear combination of X1 and X2 with small noise\n",
        "X3 = X1 + X2 + np.random.normal(0, 0.1, 1000)  # Noise variance = 0.1\n",
        "\n",
        "# X4 is independent\n",
        "X4 = np.random.normal(0, 1, 1000) #+0.5*X1\n",
        "\n",
        "df = pd.DataFrame({\"X1\": X1, \"X2\": X2, \"X3\": X3, \"X4\": X4})\n",
        "\n",
        "# Check pairwise correlations\n",
        "print(\"Pairwise Correlations (< 90%):\\n\", df.corr().round(2))\n",
        "\n",
        "# Calculate VIFs\n",
        "vif_data = pd.DataFrame()\n",
        "vif_data[\"Variable\"] = df.columns\n",
        "vif_data[\"VIF\"] = [variance_inflation_factor(df.values, i) for i in range(df.shape[1])]\n",
        "print(\"\\nVIF Values:\\n\", vif_data.round(2))"
      ],
      "metadata": {
        "colab": {
          "base_uri": "https://localhost:8080/"
        },
        "id": "qUlIRscn2Ik0",
        "outputId": "dc37c3d2-60a5-44a0-8b85-40e7b26b9402"
      },
      "execution_count": 2,
      "outputs": [
        {
          "output_type": "stream",
          "name": "stdout",
          "text": [
            "Pairwise Correlations (< 90%):\n",
            "       X1    X2    X3    X4\n",
            "X1  1.00 -0.04  0.69 -0.01\n",
            "X2 -0.04  1.00  0.70 -0.05\n",
            "X3  0.69  0.70  1.00 -0.05\n",
            "X4 -0.01 -0.05 -0.05  1.00\n",
            "\n",
            "VIF Values:\n",
            "   Variable     VIF\n",
            "0       X1  100.72\n",
            "1       X2  104.32\n",
            "2       X3  196.11\n",
            "3       X4    1.00\n"
          ]
        }
      ]
    }
  ]
}